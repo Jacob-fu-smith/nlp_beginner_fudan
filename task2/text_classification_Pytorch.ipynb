{
 "cells": [
  {
   "cell_type": "markdown",
   "id": "ec71534b",
   "metadata": {},
   "source": [
    "start with __*__ should be run first. <br>\n",
    "read with '__table of comment__' is suggested! "
   ]
  },
  {
   "cell_type": "markdown",
   "id": "b73fd198",
   "metadata": {},
   "source": [
    "### *import"
   ]
  },
  {
   "cell_type": "code",
   "execution_count": 1,
   "id": "550de543",
   "metadata": {},
   "outputs": [],
   "source": [
    "import pandas as pd\n",
    "import numpy as np\n",
    "from tqdm.notebook import tqdm\n",
    "import pickle as pkl\n",
    "import os\n",
    "import math\n",
    "import time\n",
    "from datetime import timedelta\n",
    "import torch\n",
    "import torch.nn.functional as F\n",
    "import torch.nn as nn\n",
    "\n",
    "torch.cuda.set_device(0)"
   ]
  },
  {
   "cell_type": "markdown",
   "id": "8b0dcc9b",
   "metadata": {},
   "source": [
    "## Data preprocess"
   ]
  },
  {
   "cell_type": "markdown",
   "id": "ab495ae8",
   "metadata": {},
   "source": [
    "### split trian dev test"
   ]
  },
  {
   "cell_type": "markdown",
   "id": "55aadb46",
   "metadata": {},
   "source": [
    "see task1"
   ]
  },
  {
   "cell_type": "markdown",
   "id": "cdabe9e9",
   "metadata": {},
   "source": [
    "### padding size"
   ]
  },
  {
   "cell_type": "code",
   "execution_count": 2,
   "id": "543c7ce7",
   "metadata": {},
   "outputs": [
    {
     "data": {
      "text/html": [
       "<div>\n",
       "<style scoped>\n",
       "    .dataframe tbody tr th:only-of-type {\n",
       "        vertical-align: middle;\n",
       "    }\n",
       "\n",
       "    .dataframe tbody tr th {\n",
       "        vertical-align: top;\n",
       "    }\n",
       "\n",
       "    .dataframe thead th {\n",
       "        text-align: right;\n",
       "    }\n",
       "</style>\n",
       "<table border=\"1\" class=\"dataframe\">\n",
       "  <thead>\n",
       "    <tr style=\"text-align: right;\">\n",
       "      <th></th>\n",
       "      <th>PhraseId</th>\n",
       "      <th>SentenceId</th>\n",
       "      <th>Phrase</th>\n",
       "      <th>Sentiment</th>\n",
       "    </tr>\n",
       "  </thead>\n",
       "  <tbody>\n",
       "    <tr>\n",
       "      <th>0</th>\n",
       "      <td>1</td>\n",
       "      <td>1</td>\n",
       "      <td>A series of escapades demonstrating the adage ...</td>\n",
       "      <td>1</td>\n",
       "    </tr>\n",
       "    <tr>\n",
       "      <th>1</th>\n",
       "      <td>2</td>\n",
       "      <td>1</td>\n",
       "      <td>A series of escapades demonstrating the adage ...</td>\n",
       "      <td>2</td>\n",
       "    </tr>\n",
       "    <tr>\n",
       "      <th>2</th>\n",
       "      <td>3</td>\n",
       "      <td>1</td>\n",
       "      <td>A series</td>\n",
       "      <td>2</td>\n",
       "    </tr>\n",
       "    <tr>\n",
       "      <th>3</th>\n",
       "      <td>4</td>\n",
       "      <td>1</td>\n",
       "      <td>A</td>\n",
       "      <td>2</td>\n",
       "    </tr>\n",
       "    <tr>\n",
       "      <th>4</th>\n",
       "      <td>5</td>\n",
       "      <td>1</td>\n",
       "      <td>series</td>\n",
       "      <td>2</td>\n",
       "    </tr>\n",
       "  </tbody>\n",
       "</table>\n",
       "</div>"
      ],
      "text/plain": [
       "   PhraseId  SentenceId                                             Phrase  \\\n",
       "0         1           1  A series of escapades demonstrating the adage ...   \n",
       "1         2           1  A series of escapades demonstrating the adage ...   \n",
       "2         3           1                                           A series   \n",
       "3         4           1                                                  A   \n",
       "4         5           1                                             series   \n",
       "\n",
       "   Sentiment  \n",
       "0          1  \n",
       "1          2  \n",
       "2          2  \n",
       "3          2  \n",
       "4          2  "
      ]
     },
     "execution_count": 2,
     "metadata": {},
     "output_type": "execute_result"
    }
   ],
   "source": [
    "df_data = pd.read_csv('./raw_data/train.tsv', sep='\\t')\n",
    "df_data.head()"
   ]
  },
  {
   "cell_type": "code",
   "execution_count": 3,
   "id": "a758d738",
   "metadata": {},
   "outputs": [],
   "source": [
    "df_data['Phrase_len'] = df_data['Phrase'].apply(lambda x: len(x))"
   ]
  },
  {
   "cell_type": "code",
   "execution_count": 4,
   "id": "96111952",
   "metadata": {},
   "outputs": [],
   "source": [
    "import seaborn as sns\n",
    "import matplotlib.pyplot as plt"
   ]
  },
  {
   "cell_type": "code",
   "execution_count": 5,
   "id": "e89dda13",
   "metadata": {},
   "outputs": [
    {
     "name": "stderr",
     "output_type": "stream",
     "text": [
      "D:\\anaconda3\\envs\\nlp\\lib\\site-packages\\seaborn\\_decorators.py:43: FutureWarning: Pass the following variable as a keyword arg: x. From version 0.12, the only valid positional argument will be `data`, and passing other arguments without an explicit keyword will result in an error or misinterpretation.\n",
      "  FutureWarning\n"
     ]
    },
    {
     "data": {
      "text/plain": [
       "<AxesSubplot:xlabel='Phrase_len', ylabel='count'>"
      ]
     },
     "execution_count": 5,
     "metadata": {},
     "output_type": "execute_result"
    },
    {
     "data": {
      "text/plain": [
       "([], [])"
      ]
     },
     "execution_count": 5,
     "metadata": {},
     "output_type": "execute_result"
    },
    {
     "data": {
      "image/png": "[encoded data removed]",
      "text/plain": [
       "<Figure size 432x288 with 1 Axes>"
      ]
     },
     "metadata": {
      "needs_background": "light"
     },
     "output_type": "display_data"
    }
   ],
   "source": [
    "sns.countplot(df_data['Phrase_len'])\n",
    "plt.xticks([])\n",
    "plt.show()"
   ]
  },
  {
   "cell_type": "code",
   "execution_count": 6,
   "id": "24bb48e1",
   "metadata": {},
   "outputs": [
    {
     "name": "stderr",
     "output_type": "stream",
     "text": [
      "D:\\anaconda3\\envs\\nlp\\lib\\site-packages\\seaborn\\distributions.py:2619: FutureWarning: `distplot` is a deprecated function and will be removed in a future version. Please adapt your code to use either `displot` (a figure-level function with similar flexibility) or `histplot` (an axes-level function for histograms).\n",
      "  warnings.warn(msg, FutureWarning)\n"
     ]
    },
    {
     "data": {
      "text/plain": [
       "<AxesSubplot:xlabel='Phrase_len', ylabel='Density'>"
      ]
     },
     "execution_count": 6,
     "metadata": {},
     "output_type": "execute_result"
    },
    {
     "data": {
      "image/png": "[encoded data removed]",
      "text/plain": [
       "<Figure size 432x288 with 1 Axes>"
      ]
     },
     "metadata": {
      "needs_background": "light"
     },
     "output_type": "display_data"
    }
   ],
   "source": [
    "sns.distplot(df_data['Phrase_len']) # plt.hist and sns.kdeplot\n",
    "plt.show()"
   ]
  },
  {
   "cell_type": "code",
   "execution_count": 14,
   "id": "8d78c05d",
   "metadata": {},
   "outputs": [
    {
     "data": {
      "text/plain": [
       "122"
      ]
     },
     "execution_count": 14,
     "metadata": {},
     "output_type": "execute_result"
    }
   ],
   "source": [
    "pad_size = sorted(df_data['Phrase_len'])[round(len(df_data)*0.95)]\n",
    "pad_size"
   ]
  },
  {
   "cell_type": "markdown",
   "id": "6c4c306d",
   "metadata": {},
   "source": [
    "### *build my vocab and dataset"
   ]
  },
  {
   "cell_type": "code",
   "execution_count": 4,
   "id": "6d18ed0e",
   "metadata": {
    "code_folding": []
   },
   "outputs": [],
   "source": [
    "from nltk import word_tokenize, pos_tag\n",
    "from nltk.corpus import wordnet\n",
    "from nltk.stem import WordNetLemmatizer\n",
    "UNK, PAD = '<UNK>', '<PAD>'  # 未知字，padding符号\n",
    "\n",
    "def tokenizer_lemma(line):\n",
    "    '''\n",
    "    diff to task 1\n",
    "    '''\n",
    "    def get_wordnet_pos(tag):\n",
    "        '''\n",
    "        get the part-of-speech\n",
    "        '''\n",
    "        if tag.startswith('J'):\n",
    "            return wordnet.ADJ\n",
    "        elif tag.startswith('V'):\n",
    "            return wordnet.VERB\n",
    "        elif tag.startswith('N'):\n",
    "            return wordnet.NOUN\n",
    "        elif tag.startswith('R'):\n",
    "            return wordnet.ADV\n",
    "        else:\n",
    "            return wordnet.NOUN    \n",
    "    wnl = WordNetLemmatizer()\n",
    "    tokens = word_tokenize(line.lower())              # 分词,同时大写换小写\n",
    "    tagged_sent = pos_tag(tokens, tagset='universal')     # 词性标注\n",
    "    tokens_lemma = [wnl.lemmatize(word, pos=get_wordnet_pos(tag)) for word, tag in tagged_sent]\n",
    "    return tokens_lemma\n",
    "    \n",
    "def build_vocab(data_path, vocab_path):\n",
    "    data = [_.strip().split('\\t')[0] for _ in open(data_path, 'r', encoding='utf-8').readlines()]\n",
    "    word_cnt = dict()\n",
    "    for sentence in tqdm(data):\n",
    "        for token in tokenizer_lemma(sentence):\n",
    "            word_cnt[token] = word_cnt.get(token, 0) + 1\n",
    "    word_cnt = sorted(word_cnt.items(), key=lambda x:x[0], reverse=True)\n",
    "    print(len(word_cnt))\n",
    "    vocab = {_[0]: idx for idx, _ in enumerate(word_cnt)}\n",
    "    vocab.update({UNK: len(vocab), PAD: len(vocab) + 1})\n",
    "    pkl.dump(vocab, open(vocab_path, 'wb'))\n",
    "    print(\"vocab build successed, size : %d\" %len(vocab))\n",
    "    return vocab\n",
    "\n",
    "def build_dataset(config):\n",
    "    '''\n",
    "    变成[([],y),([],y),([],y),([],y)]\n",
    "    '''\n",
    "    if os.path.exists(config.vocab_path):\n",
    "        vocab = pkl.load(open(config.vocab_path, 'rb'))\n",
    "    else:\n",
    "        vocab = build_vocab(config.train_path, config.vocab_path)\n",
    "    config.n_vocab = len(vocab)\n",
    "    print(\"vocab loaded sucessed, size : %d \" %len(vocab))\n",
    "    def load_data(file_path, output_path, pad_size=config.pad_size):\n",
    "        if os.path.exists(output_path):\n",
    "            data = pkl.load(open(output_path, 'rb'))\n",
    "            print(\"%s loaded success, size: %d\" %(output_path, len(data)))\n",
    "            return data\n",
    "        data = open(file_path, 'r', encoding='utf-8').readlines()\n",
    "        all_data = list()\n",
    "        for line in tqdm(data):\n",
    "            try:\n",
    "                x, y = line.strip().split('\\t')\n",
    "            except:\n",
    "                print(line)\n",
    "            tokens = tokenizer_lemma(x)\n",
    "            if len(tokens) < pad_size:\n",
    "                tokens.extend([PAD] * (pad_size - len(tokens)))\n",
    "            else:\n",
    "                tokens = tokens[:pad_size]\n",
    "            token_map = [vocab.get(token, vocab.get(UNK)) for token in tokens] # diff to one-hot\n",
    "            all_data.append((token_map, int(y)))\n",
    "        pkl.dump(all_data, open(output_path, 'wb'))\n",
    "        print(\"%s loaded success, size: %d\" %(file_path, len(all_data)))\n",
    "        return all_data\n",
    "    test_set = load_data(config.test_path, config.test_set_path)\n",
    "    dev_set = load_data(config.dev_path, config.dev_set_path)\n",
    "    train_set = load_data(config.train_path, config.train_set_path)\n",
    "    return train_set, dev_set, test_set"
   ]
  },
  {
   "cell_type": "markdown",
   "id": "f79523b1",
   "metadata": {},
   "source": [
    "### glove process"
   ]
  },
  {
   "cell_type": "code",
   "execution_count": 3,
   "id": "20082a64",
   "metadata": {},
   "outputs": [
    {
     "ename": "KeyboardInterrupt",
     "evalue": "",
     "output_type": "error",
     "traceback": [
      "\u001b[1;31m---------------------------------------------------------------------------\u001b[0m",
      "\u001b[1;31mKeyboardInterrupt\u001b[0m                         Traceback (most recent call last)",
      "\u001b[1;32m<ipython-input-3-bc4103f7c31a>\u001b[0m in \u001b[0;36m<module>\u001b[1;34m\u001b[0m\n\u001b[0;32m      4\u001b[0m     \u001b[0mdata\u001b[0m \u001b[1;33m=\u001b[0m \u001b[0mlist\u001b[0m\u001b[1;33m(\u001b[0m\u001b[1;33m)\u001b[0m\u001b[1;33m\u001b[0m\u001b[1;33m\u001b[0m\u001b[0m\n\u001b[0;32m      5\u001b[0m     \u001b[1;32mfor\u001b[0m \u001b[0mi\u001b[0m\u001b[1;33m,\u001b[0m\u001b[0mline\u001b[0m \u001b[1;32min\u001b[0m \u001b[0menumerate\u001b[0m\u001b[1;33m(\u001b[0m\u001b[0mf\u001b[0m\u001b[1;33m.\u001b[0m\u001b[0mreadlines\u001b[0m\u001b[1;33m(\u001b[0m\u001b[1;33m)\u001b[0m\u001b[1;33m)\u001b[0m\u001b[1;33m:\u001b[0m\u001b[1;33m\u001b[0m\u001b[1;33m\u001b[0m\u001b[0m\n\u001b[1;32m----> 6\u001b[1;33m         \u001b[0mw2vlist\u001b[0m \u001b[1;33m=\u001b[0m \u001b[0mline\u001b[0m\u001b[1;33m.\u001b[0m\u001b[0msplit\u001b[0m\u001b[1;33m(\u001b[0m\u001b[1;33m)\u001b[0m\u001b[1;33m\u001b[0m\u001b[1;33m\u001b[0m\u001b[0m\n\u001b[0m\u001b[0;32m      7\u001b[0m         \u001b[0mword\u001b[0m\u001b[1;33m,\u001b[0m \u001b[0mvector\u001b[0m \u001b[1;33m=\u001b[0m \u001b[0mw2vlist\u001b[0m\u001b[1;33m[\u001b[0m\u001b[1;36m0\u001b[0m\u001b[1;33m]\u001b[0m\u001b[1;33m,\u001b[0m \u001b[0mw2vlist\u001b[0m\u001b[1;33m[\u001b[0m\u001b[1;36m1\u001b[0m\u001b[1;33m:\u001b[0m\u001b[1;33m]\u001b[0m\u001b[1;33m\u001b[0m\u001b[1;33m\u001b[0m\u001b[0m\n\u001b[0;32m      8\u001b[0m         \u001b[0mvocab\u001b[0m\u001b[1;33m[\u001b[0m\u001b[0mword\u001b[0m\u001b[1;33m]\u001b[0m \u001b[1;33m=\u001b[0m \u001b[0mi\u001b[0m\u001b[1;33m\u001b[0m\u001b[1;33m\u001b[0m\u001b[0m\n",
      "\u001b[1;31mKeyboardInterrupt\u001b[0m: "
     ]
    }
   ],
   "source": [
    "glove_path = r'D:\\workspace\\pretrained_models\\glove\\standford\\glove.6B.300d.txt'\n",
    "with open(glove_path, 'r', encoding='utf-8') as f:\n",
    "    vocab = {}\n",
    "    data = list()\n",
    "    for i,line in enumerate(f.readlines()):\n",
    "        w2vlist = line.split()\n",
    "        word, vector = w2vlist[0], w2vlist[1:]\n",
    "        vocab[word] = i\n",
    "        data.append(vector)\n",
    "    data.append([0]*len(data[0]))\n",
    "    data.append([0]*len(data[0]))\n",
    "    vocab.update({UNK: len(vocab), PAD: len(vocab) + 1})\n",
    "    data = np.array(data,float)\n",
    "pkl.dump(vocab, open(r'D:\\workspace\\pretrained_models\\glove\\standford\\vocab.pkl', 'wb'))\n",
    "pkl.dump(data, open(r'D:\\workspace\\pretrained_models\\glove\\standford\\glove.6B.300d.pkl', 'wb'))"
   ]
  },
  {
   "cell_type": "markdown",
   "id": "901da372",
   "metadata": {},
   "source": [
    "### word2vec process"
   ]
  },
  {
   "cell_type": "code",
   "execution_count": 39,
   "id": "a1f88548",
   "metadata": {},
   "outputs": [],
   "source": [
    "model_path = r'/home2/rzhao/pretrained_models/word2vec/GoogleNews/word2vec-google-news-300.model'\n",
    "# vec_path = r'/home2/rzhao/pretrained_models/word2vec/GoogleNews/word2vec-google-news-300.model.vectors.npy'\n",
    "# word_map_path = r'/home2/rzhao/pretrained_models/word2vec/GoogleNews/word2vec-combined-ms-256.json'"
   ]
  },
  {
   "cell_type": "code",
   "execution_count": 40,
   "id": "b99ea752",
   "metadata": {},
   "outputs": [],
   "source": [
    "from gensim.models import KeyedVectors\n",
    "w2v = KeyedVectors.load(model_path)\n",
    "# vec = np.load(vec_path)"
   ]
  },
  {
   "cell_type": "code",
   "execution_count": 41,
   "id": "62d7a76c",
   "metadata": {},
   "outputs": [
    {
     "data": {
      "text/plain": [
       "'/home2/rzhao/pretrained_models/word2vec/GoogleNews/vocab.pkl'"
      ]
     },
     "execution_count": 41,
     "metadata": {},
     "output_type": "execute_result"
    },
    {
     "data": {
      "text/plain": [
       "'/home2/rzhao/pretrained_models/word2vec/GoogleNews/word2vec-google-news-300.pkl'"
      ]
     },
     "execution_count": 41,
     "metadata": {},
     "output_type": "execute_result"
    }
   ],
   "source": [
    "os.path.join(os.path.dirname(model_path), 'vocab.pkl')\n",
    "os.path.join(os.path.dirname(vec_path), 'word2vec-google-news-300.pkl')"
   ]
  },
  {
   "cell_type": "code",
   "execution_count": null,
   "id": "05a143f1",
   "metadata": {},
   "outputs": [],
   "source": [
    "w2v.key_to_index['<PAD>'] = w2v.get_index('PAD')\n",
    "w2v.key_to_index.pop('PAD')"
   ]
  },
  {
   "cell_type": "code",
   "execution_count": 45,
   "id": "274bc0cb",
   "metadata": {},
   "outputs": [],
   "source": [
    "pkl.dump(w2v.key_to_index, open(r'/home2/rzhao/pretrained_models/word2vec/GoogleNews/vocab.pkl', 'wb'))\n",
    "pkl.dump(w2v.vectors, open(r'/home2/rzhao/pretrained_models/word2vec/GoogleNews/word2vec-google-news-300.pkl', 'wb'))"
   ]
  },
  {
   "cell_type": "markdown",
   "id": "74edbf7e",
   "metadata": {},
   "source": [
    "## unit"
   ]
  },
  {
   "cell_type": "markdown",
   "id": "83bfafe9",
   "metadata": {},
   "source": [
    "### *config"
   ]
  },
  {
   "cell_type": "code",
   "execution_count": 2,
   "id": "8f3300e6",
   "metadata": {},
   "outputs": [],
   "source": [
    "class Config(object):\n",
    "    def __init__(self, embed_path=None, vocab_path=None):\n",
    "        \n",
    "        # pararms for dataset\n",
    "        self.train_path = r'./data_set/train.txt'\n",
    "        self.dev_path = r'./data_set/dev.txt'\n",
    "        self.test_path = r'./data_set/test.txt'\n",
    "        self.vocab_path = vocab_path if vocab_path else r'./data_set/vocab.pkl'\n",
    "        self.train_set_path = r'./data_set/train.pkl'\n",
    "        self.dev_set_path = r'./data_set/dev.pkl'\n",
    "        self.test_set_path = r'./data_set/test.pkl'\n",
    "        self.class_list = [x.strip() for x in open(r'./data_set/labels.txt', encoding='utf-8').readlines()]\n",
    "        self.label_num = len(self.class_list)\n",
    "        self.n_vocab = 0    # assign after dataset built\n",
    "        \n",
    "        # params for train\n",
    "        self.batch_size = 32\n",
    "        self.epoch = 20\n",
    "        self.learning_rate = 1e-3\n",
    "        self.drop_out = 0.3\n",
    "        self.log_step = 1000\n",
    "        self.pad_size = 128\n",
    "        \n",
    "        # params for embedding\n",
    "        self.embedding_pretrained = torch.FloatTensor(pkl.load(open(embed_path, 'rb'))) if embed_path is not None else None\n",
    "        self.embedding_len = self.embedding_pretrained.size(1) if self.embedding_pretrained is not None else 300\n",
    "        \n",
    "        # params for rnn model\n",
    "        self.rnn_hidden = 128\n",
    "        self.rnn_layer = 2\n",
    "        self.bi_rnn = False\n",
    "        \n",
    "        # params for cnn model\n",
    "        self.num_channel = 256\n",
    "        self.kernel_sizes = (3, 4, 5)\n",
    "        \n",
    "        # device\n",
    "        self.device = 'cuda' if torch.cuda.is_available() else 'cpu'"
   ]
  },
  {
   "cell_type": "code",
   "execution_count": 4,
   "id": "db7cd113",
   "metadata": {},
   "outputs": [],
   "source": [
    "config = Config(embed_path = r'/home2/rzhao/pretrained_models/glove/standford/glove.6B.50d.pkl',\n",
    "                vocab_path = r'/home2/rzhao/pretrained_models/glove/standford/vocab.pkl')"
   ]
  },
  {
   "cell_type": "markdown",
   "id": "eb6a4a73",
   "metadata": {},
   "source": [
    "### *datasetIterater"
   ]
  },
  {
   "cell_type": "code",
   "execution_count": 3,
   "id": "45feda88",
   "metadata": {},
   "outputs": [],
   "source": [
    "class DatasetIterater(object):\n",
    "    '''\n",
    "    return the batch index of dataset\n",
    "    '''\n",
    "    def __init__(self, data_set, batch_size, device):\n",
    "        self.device = device\n",
    "        self.data_set = data_set\n",
    "        self.batch_size = batch_size\n",
    "        self.n_batches = len(data_set) // batch_size\n",
    "        self.residue = True if len(data_set) % self.n_batches != 0 else False\n",
    "        self.index = 0\n",
    "        \n",
    "    def to_tensor(self, raw_batch):\n",
    "        x = torch.LongTensor([_[0] for _ in raw_batch]).to(self.device)\n",
    "        y = torch.LongTensor([_[1] for _ in raw_batch]).to(self.device)\n",
    "        return x,y\n",
    "        \n",
    "    def __next__(self):\n",
    "        if self.index == self.n_batches and self.residue:\n",
    "            raw_batch = self.data_set[self.index * self.batch_size: len(self.data_set)]\n",
    "            batch = self.to_tensor(raw_batch)\n",
    "            self.index += 1\n",
    "            return batch\n",
    "        elif self.index >= self.n_batches:\n",
    "            self.index = 0\n",
    "            raise StopIteration\n",
    "        else:\n",
    "            raw_batch = self.data_set[self.index * self.batch_size: (self.index+1) * self.batch_size]\n",
    "            batch = self.to_tensor(raw_batch)\n",
    "            self.index += 1\n",
    "            return batch\n",
    "           \n",
    "    def __iter__(self):\n",
    "        return self\n",
    "    \n",
    "    def __len__(self):\n",
    "        return self.n_batches+1 if self.residue else self.n_batches"
   ]
  },
  {
   "cell_type": "markdown",
   "id": "569f47c0",
   "metadata": {},
   "source": [
    "Test"
   ]
  },
  {
   "cell_type": "code",
   "execution_count": 6,
   "id": "e93bab25",
   "metadata": {},
   "outputs": [
    {
     "name": "stdout",
     "output_type": "stream",
     "text": [
      "vocab loaded sucessed, size : 14666 \n",
      "./data_set/test.pkl loaded success, size: 15605\n",
      "./data_set/dev.pkl loaded success, size: 31211\n",
      "./data_set/train.pkl loaded success, size: 109242\n"
     ]
    },
    {
     "data": {
      "text/plain": [
       "(tensor([[11304,  4098,  5197,  ..., 14665, 14665, 14665],\n",
       "         [10453,  7905,  8159,  ..., 14665, 14665, 14665],\n",
       "         [12066, 14665, 14665,  ..., 14665, 14665, 14665],\n",
       "         ...,\n",
       "         [ 8760,  3156, 13399,  ..., 14665, 14665, 14665],\n",
       "         [14432, 12528,  4100,  ..., 14665, 14665, 14665],\n",
       "         [12226,  1549,  1729,  ..., 14665, 14665, 14665]], device='cuda:2'),\n",
       " tensor([3, 4, 2, 2, 3, 3, 3, 2, 2, 4, 1, 2, 2, 1, 2, 1, 2, 1, 3, 2, 2, 2, 2, 4,\n",
       "         2, 2, 3, 2, 2, 2, 1, 2], device='cuda:2'))"
      ]
     },
     "execution_count": 6,
     "metadata": {},
     "output_type": "execute_result"
    }
   ],
   "source": [
    "config = Config()\n",
    "train_set, dev_set, test_set = build_dataset(config)\n",
    "data_iter = DatasetIterater(test_set, config.batch_size, config.device)\n",
    "next(data_iter)"
   ]
  },
  {
   "cell_type": "markdown",
   "id": "9fd8c546",
   "metadata": {},
   "source": [
    "## model"
   ]
  },
  {
   "cell_type": "markdown",
   "id": "44478081",
   "metadata": {},
   "source": [
    "### *RNN"
   ]
  },
  {
   "cell_type": "code",
   "execution_count": 5,
   "id": "ff012d84",
   "metadata": {},
   "outputs": [],
   "source": [
    "class Text_RNN(nn.Module):\n",
    "    def __init__(self, config):\n",
    "        super(Text_RNN, self).__init__()\n",
    "        if config.embedding_pretrained is not None:\n",
    "            self.embedding = nn.Embedding.from_pretrained(config.embedding_pretrained, freeze=False, padding_idx=config.n_vocab - 1)\n",
    "        else:\n",
    "            self.embedding = nn.Embedding(config.n_vocab, config.embedding_len, padding_idx=config.n_vocab - 1)\n",
    "        self.rnn = nn.RNN(config.embedding_len, config.rnn_hidden, config.rnn_layer,\n",
    "                         bidirectional=config.bi_rnn, batch_first=True, dropout=config.drop_out)\n",
    "        self.fc = nn.Linear(config.rnn_hidden * (int(config.bi_rnn) + 1), config.label_num)\n",
    "        \n",
    "    def forward(self, x):\n",
    "        out = self.embedding(x)\n",
    "        out, hn = self.rnn(out) # \n",
    "        out = self.fc(out[:, -1, :]) # out[:, -1, :] equal to hn[-1, :, :]\n",
    "        return out"
   ]
  },
  {
   "cell_type": "code",
   "execution_count": 6,
   "id": "33b05ce7",
   "metadata": {},
   "outputs": [
    {
     "name": "stdout",
     "output_type": "stream",
     "text": [
      "vocab loaded sucessed, size : 14666 \n",
      "./data_set/test.pkl loaded success, size: 15605\n",
      "./data_set/dev.pkl loaded success, size: 31211\n",
      "./data_set/train.pkl loaded success, size: 109242\n"
     ]
    },
    {
     "data": {
      "text/plain": [
       "tensor([[ 0.0578, -0.0882, -0.1269,  0.0738, -0.1413],\n",
       "        [ 0.0449, -0.0586, -0.1590,  0.0545, -0.1305],\n",
       "        [-0.0016, -0.0869, -0.1557,  0.0246, -0.1547],\n",
       "        [ 0.0395, -0.1018, -0.1495, -0.0057, -0.1169],\n",
       "        [ 0.0330, -0.0335, -0.1034,  0.0384, -0.1343],\n",
       "        [ 0.0182, -0.0998, -0.1502,  0.0231, -0.1522],\n",
       "        [ 0.0313, -0.0892, -0.1534, -0.0076, -0.1047],\n",
       "        [ 0.0413, -0.0655, -0.1689,  0.0423, -0.1119],\n",
       "        [ 0.0525, -0.0219, -0.1426,  0.0331, -0.0981],\n",
       "        [ 0.0557, -0.0421, -0.1882,  0.0445, -0.1272],\n",
       "        [ 0.0397, -0.0823, -0.1360,  0.0191, -0.1550],\n",
       "        [ 0.0313, -0.0525, -0.1787,  0.0908, -0.1697],\n",
       "        [ 0.0430, -0.0468, -0.1680,  0.0632, -0.1187],\n",
       "        [ 0.0420, -0.0739, -0.1469,  0.0287, -0.1285],\n",
       "        [ 0.0660, -0.0705, -0.1858,  0.0868, -0.1247],\n",
       "        [ 0.0452, -0.0730, -0.1502,  0.0417, -0.1506],\n",
       "        [ 0.0387, -0.0943, -0.1777,  0.0217, -0.1707],\n",
       "        [ 0.0124, -0.0424, -0.1227,  0.0809, -0.1487],\n",
       "        [ 0.0182, -0.0399, -0.1660,  0.0590, -0.1198],\n",
       "        [ 0.1094, -0.0700, -0.1812,  0.0414, -0.1136],\n",
       "        [ 0.0541, -0.0869, -0.1586,  0.0396, -0.1123],\n",
       "        [ 0.0420, -0.1099, -0.1515,  0.0520, -0.1392],\n",
       "        [ 0.0439,  0.0092, -0.1403,  0.0197, -0.1659],\n",
       "        [ 0.0284, -0.0694, -0.1917,  0.0613, -0.1238],\n",
       "        [ 0.0230, -0.0660, -0.1224,  0.0694, -0.1489],\n",
       "        [ 0.0351, -0.0795, -0.1697,  0.0769, -0.1163],\n",
       "        [ 0.0469, -0.0866, -0.1375,  0.0440, -0.1387],\n",
       "        [ 0.0264, -0.0992, -0.1291,  0.0616, -0.1442],\n",
       "        [ 0.0595, -0.0798, -0.1567,  0.0388, -0.1537],\n",
       "        [ 0.0355, -0.0460, -0.1083,  0.0634, -0.1315],\n",
       "        [ 0.0644, -0.0712, -0.1248,  0.0372, -0.0821],\n",
       "        [ 0.0572, -0.1125, -0.1857,  0.0673, -0.1258]], device='cuda:0',\n",
       "       grad_fn=<AddmmBackward>)"
      ]
     },
     "execution_count": 6,
     "metadata": {},
     "output_type": "execute_result"
    }
   ],
   "source": [
    "config = Config()\n",
    "train_set, dev_set, test_set = build_dataset(config)\n",
    "test_iter = DatasetIterater(test_set, config.batch_size, config.device)\n",
    "model = Text_RNN(config).to(config.device)\n",
    "model(next(test_iter)[0])"
   ]
  },
  {
   "cell_type": "code",
   "execution_count": 16,
   "id": "3da7dc1f",
   "metadata": {},
   "outputs": [
    {
     "name": "stdout",
     "output_type": "stream",
     "text": [
      "vocab loaded sucessed, size : 400002 \n",
      "./data_set/test.pkl loaded success, size: 15605\n",
      "./data_set/dev.pkl loaded success, size: 31211\n",
      "./data_set/train.pkl loaded success, size: 109242\n"
     ]
    },
    {
     "data": {
      "text/plain": [
       "tensor([[ 0.0009,  0.0502, -0.0450, -0.2276, -0.0976],\n",
       "        [ 0.0955, -0.0842,  0.0492, -0.2244,  0.0926],\n",
       "        [ 0.0271, -0.0445, -0.0486, -0.1505,  0.0639],\n",
       "        [-0.1559, -0.0810, -0.0259, -0.1507,  0.0435],\n",
       "        [ 0.1281, -0.0728, -0.0193, -0.4005,  0.1208],\n",
       "        [ 0.0186, -0.1044,  0.1145, -0.2236,  0.1161],\n",
       "        [ 0.0318, -0.0188,  0.0540, -0.2473, -0.0505],\n",
       "        [ 0.0508, -0.0312,  0.0672, -0.2199,  0.0037],\n",
       "        [ 0.0661, -0.1311, -0.0693, -0.2742,  0.0928],\n",
       "        [ 0.1299, -0.0147, -0.1106, -0.1785,  0.0247],\n",
       "        [-0.0894, -0.0932,  0.0872, -0.1140, -0.0783],\n",
       "        [ 0.0462,  0.0581, -0.0128, -0.2875,  0.1313],\n",
       "        [-0.0070, -0.0749,  0.0804, -0.3238,  0.0787],\n",
       "        [ 0.0339, -0.0240,  0.0244, -0.2182,  0.0014],\n",
       "        [ 0.0378, -0.1635, -0.0187, -0.2843,  0.0632],\n",
       "        [-0.0229, -0.0781,  0.1537, -0.1138,  0.0857],\n",
       "        [ 0.2159, -0.0474,  0.0295, -0.2566,  0.0335],\n",
       "        [-0.0117, -0.0581,  0.1017, -0.4465,  0.0386],\n",
       "        [ 0.0541, -0.1314, -0.0188, -0.2728, -0.0148],\n",
       "        [ 0.0876, -0.0412,  0.0550, -0.2479,  0.0815],\n",
       "        [-0.0487, -0.0380,  0.0998, -0.0934,  0.1095],\n",
       "        [-0.0095, -0.0346,  0.0632, -0.3647,  0.1244],\n",
       "        [-0.0023, -0.0366,  0.0445, -0.2893,  0.1366],\n",
       "        [ 0.0843,  0.0074,  0.0327, -0.2334,  0.0173],\n",
       "        [-0.0443,  0.0550,  0.0046, -0.2446, -0.0307],\n",
       "        [ 0.1550, -0.1265,  0.0181, -0.2044,  0.0805],\n",
       "        [-0.1020, -0.0228, -0.0278, -0.2670,  0.1331],\n",
       "        [ 0.1671, -0.1879, -0.0220, -0.1035,  0.2591],\n",
       "        [-0.1640, -0.0622, -0.0343, -0.1658,  0.0595],\n",
       "        [-0.0375, -0.0233, -0.1088, -0.0851,  0.0373],\n",
       "        [ 0.1098,  0.0330, -0.0107, -0.2462,  0.1068],\n",
       "        [-0.0486, -0.0649,  0.0379, -0.1821,  0.0946]], device='cuda:0',\n",
       "       grad_fn=<AddmmBackward>)"
      ]
     },
     "execution_count": 16,
     "metadata": {},
     "output_type": "execute_result"
    }
   ],
   "source": [
    "config = Config(embed_path = r'/home2/rzhao/pretrained_models/glove/standford/glove.6B.50d.pkl',\n",
    "                vocab_path = r'/home2/rzhao/pretrained_models/glove/standford/vocab.pkl')\n",
    "train_set, dev_set, test_set = build_dataset(config)\n",
    "test_iter = DatasetIterater(test_set, config.batch_size, config.device)\n",
    "model = Text_RNN(config).to(config.device)\n",
    "model(next(test_iter)[0])"
   ]
  },
  {
   "cell_type": "markdown",
   "id": "2dc6284e",
   "metadata": {},
   "source": [
    "### *CNN"
   ]
  },
  {
   "cell_type": "code",
   "execution_count": 7,
   "id": "05e71c33",
   "metadata": {},
   "outputs": [],
   "source": [
    "class Text_CNN(nn.Module):\n",
    "    def __init__(self, config):\n",
    "        super(Text_CNN, self).__init__()\n",
    "        if config.embedding_pretrained is not None:\n",
    "            self.embedding = nn.Embedding.from_pretrained(config.embedding_pretrained, freeze=False, padding_idx=config.n_vocab - 1)\n",
    "        else:\n",
    "            self.embedding = nn.Embedding(config.n_vocab, config.embedding_len, padding_idx=config.n_vocab - 1)\n",
    "        self.convs = nn.ModuleList(\n",
    "            [nn.Conv2d(1, config.num_channel, (size, config.embedding_len)) for size in config.kernel_sizes])\n",
    "#         self.conv1 = nn.Conv2d(in_channels=1, out_channels=config.num_channel, kernel_size=(, config.embedding_len))\n",
    "        self.fc = nn.Linear(config.num_channel * len(config.kernel_sizes), config.label_num)\n",
    "        \n",
    "    def conv_and_pool(self, x, conv):\n",
    "        conv_out = F.relu(conv(x)).squeeze(3)\n",
    "        pooled_out = F.max_pool1d(conv_out, conv_out.size(2)).squeeze(2)\n",
    "        return pooled_out\n",
    "    \n",
    "    def forward(self, x):\n",
    "        out = self.embedding(x)\n",
    "        out = out.unsqueeze(1)\n",
    "        out = torch.cat([self.conv_and_pool(out, conv) for conv in self.convs], 1)\n",
    "        out = self.fc(out)\n",
    "        return out"
   ]
  },
  {
   "cell_type": "code",
   "execution_count": 73,
   "id": "522240b2",
   "metadata": {},
   "outputs": [
    {
     "name": "stdout",
     "output_type": "stream",
     "text": [
      "vocab loaded sucessed, size : 400002 \n",
      "./data_set/test.pkl loaded success, size: 15605\n",
      "./data_set/dev.pkl loaded success, size: 31211\n",
      "./data_set/train.pkl loaded success, size: 109242\n"
     ]
    },
    {
     "data": {
      "text/plain": [
       "tensor([[ 6.6035e-01,  4.6677e-01,  2.3761e-01,  2.8745e-02,  3.0743e-01],\n",
       "        [ 1.0245e+00,  5.0316e-01,  1.8430e-02, -3.4109e-01,  3.0579e-01],\n",
       "        [ 4.8702e-01,  2.7138e-01,  6.3447e-02, -4.4807e-02,  1.2226e-01],\n",
       "        [ 6.6586e-01,  5.3008e-01,  2.8441e-03, -1.6934e-01,  8.8650e-02],\n",
       "        [ 9.2439e-01,  4.4143e-01, -3.3740e-02, -2.7215e-01,  1.5879e-01],\n",
       "        [ 6.6027e-01,  4.8743e-01,  1.6585e-01, -2.3087e-01,  5.2419e-02],\n",
       "        [ 8.0646e-01,  5.1191e-01,  9.1721e-02, -4.5864e-01, -1.5819e-01],\n",
       "        [ 8.8792e-01,  4.3649e-01, -1.7078e-02, -8.5447e-02,  6.7030e-02],\n",
       "        [ 5.9375e-01,  4.7643e-01, -7.3071e-02, -8.8662e-02,  2.7353e-01],\n",
       "        [ 7.2837e-01,  5.4883e-01,  1.3848e-02, -1.2166e-02,  1.7551e-01],\n",
       "        [ 1.1687e+00,  7.7771e-01, -1.8716e-02, -3.1136e-01,  3.6114e-01],\n",
       "        [ 7.6785e-01,  5.7504e-01,  2.1751e-02, -3.7635e-02,  1.4264e-01],\n",
       "        [ 5.4522e-01,  5.6846e-01,  1.8392e-01, -8.5888e-02,  2.3925e-01],\n",
       "        [ 4.7425e-01,  3.4606e-01,  3.2703e-02, -2.5442e-01,  2.1270e-01],\n",
       "        [ 6.1175e-01,  4.7373e-01,  3.5501e-02, -1.2358e-01,  1.6540e-01],\n",
       "        [ 8.7591e-01,  3.6957e-01,  1.3225e-01, -3.1009e-01, -1.1473e-01],\n",
       "        [ 6.1737e-01,  4.1116e-01,  8.6703e-02, -1.1662e-01,  1.2153e-01],\n",
       "        [ 9.0013e-01,  4.5316e-01,  1.5179e-01, -5.3495e-01,  2.4714e-01],\n",
       "        [ 1.0429e+00,  4.6298e-01,  1.3945e-01, -5.4489e-01,  6.7818e-02],\n",
       "        [ 4.8960e-01,  3.3613e-01,  4.6760e-02,  2.7178e-02,  1.3607e-01],\n",
       "        [ 8.4288e-01,  4.4232e-01, -3.6933e-04, -3.2035e-01,  1.6015e-01],\n",
       "        [ 6.3530e-01,  6.2175e-01,  1.8994e-01, -1.8248e-01,  3.4007e-01],\n",
       "        [ 7.9657e-01,  6.4647e-01,  1.3060e-01, -2.6991e-01,  2.3612e-01],\n",
       "        [ 4.7941e-01,  4.5086e-01, -2.0719e-02, -2.3209e-01, -5.1210e-02],\n",
       "        [ 7.2698e-01,  5.3330e-01,  7.7709e-02, -1.8964e-01,  2.6046e-01],\n",
       "        [ 7.5384e-01,  4.4413e-01, -1.5944e-01, -1.2632e-01,  1.7938e-02],\n",
       "        [ 8.4328e-01,  4.0872e-01,  9.7870e-02, -2.8175e-01,  2.8070e-01],\n",
       "        [ 6.1601e-01,  4.3783e-01,  9.6811e-02, -1.8658e-01, -3.1898e-03],\n",
       "        [ 5.4026e-01,  5.1589e-01,  1.5174e-01, -6.0795e-02,  3.0134e-01],\n",
       "        [ 9.6281e-01,  3.9601e-01,  1.8470e-03, -2.6882e-01,  2.4656e-03],\n",
       "        [ 8.2325e-01,  5.8237e-01,  5.2237e-03, -3.7445e-01,  1.2685e-01],\n",
       "        [ 6.5317e-01,  4.3829e-01,  7.1014e-02, -1.2933e-01,  3.1004e-02]],\n",
       "       device='cuda:0', grad_fn=<AddmmBackward>)"
      ]
     },
     "execution_count": 73,
     "metadata": {},
     "output_type": "execute_result"
    }
   ],
   "source": [
    "config = Config(embed_path = r'/home2/rzhao/pretrained_models/glove/standford/glove.6B.50d.pkl',\n",
    "                vocab_path = r'/home2/rzhao/pretrained_models/glove/standford/vocab.pkl')\n",
    "train_set, dev_set, test_set = build_dataset(config)\n",
    "test_iter = DatasetIterater(test_set, config.batch_size, config.device)\n",
    "model = Text_CNN(config).to(config.device)\n",
    "model(next(test_iter)[0])"
   ]
  },
  {
   "cell_type": "code",
   "execution_count": 46,
   "id": "8ac2c933",
   "metadata": {
    "scrolled": false
   },
   "outputs": [],
   "source": [
    "conv1 = nn.Conv2d(in_channels=1, out_channels=4, kernel_size=(2,5))\n",
    "conv2 = nn.Conv2d(1, 4, (3,5))\n",
    "conv3 = nn.Conv2d(1, 4, (4,5))"
   ]
  },
  {
   "cell_type": "code",
   "execution_count": 31,
   "id": "9544dae9",
   "metadata": {},
   "outputs": [
    {
     "data": {
      "text/plain": [
       "torch.Size([8, 4, 9, 1])"
      ]
     },
     "execution_count": 31,
     "metadata": {},
     "output_type": "execute_result"
    }
   ],
   "source": [
    "data = torch.randn(8, 10, 5)\n",
    "data = data.unsqueeze(1)\n",
    "out = conv(data)\n",
    "out.shape"
   ]
  },
  {
   "cell_type": "code",
   "execution_count": 26,
   "id": "f272cd37",
   "metadata": {},
   "outputs": [
    {
     "data": {
      "text/plain": [
       "torch.Size([8, 4, 9, 1])"
      ]
     },
     "execution_count": 26,
     "metadata": {},
     "output_type": "execute_result"
    },
    {
     "data": {
      "text/plain": [
       "torch.Size([8, 4, 8, 1])"
      ]
     },
     "execution_count": 26,
     "metadata": {},
     "output_type": "execute_result"
    },
    {
     "data": {
      "text/plain": [
       "torch.Size([8, 4, 7, 1])"
      ]
     },
     "execution_count": 26,
     "metadata": {},
     "output_type": "execute_result"
    }
   ],
   "source": [
    "conv1(data).shape\n",
    "conv2(data).shape\n",
    "conv3(data).shape"
   ]
  },
  {
   "cell_type": "code",
   "execution_count": 29,
   "id": "8292f267",
   "metadata": {},
   "outputs": [
    {
     "data": {
      "text/plain": [
       "torch.Size([8, 4, 24, 1])"
      ]
     },
     "execution_count": 29,
     "metadata": {},
     "output_type": "execute_result"
    }
   ],
   "source": [
    "torch.cat([conv1(data), conv2(data), conv3(data)], 2).shape"
   ]
  },
  {
   "cell_type": "code",
   "execution_count": 42,
   "id": "d9f63fbd",
   "metadata": {},
   "outputs": [
    {
     "data": {
      "text/plain": [
       "torch.Size([8, 4, 9])"
      ]
     },
     "execution_count": 42,
     "metadata": {},
     "output_type": "execute_result"
    },
    {
     "data": {
      "text/plain": [
       "torch.Size([8, 4, 1])"
      ]
     },
     "execution_count": 42,
     "metadata": {},
     "output_type": "execute_result"
    }
   ],
   "source": [
    "out = conv1(data).squeeze(3)\n",
    "out.shape\n",
    "F.max_pool1d(out, out.size(2)).shape"
   ]
  },
  {
   "cell_type": "code",
   "execution_count": 47,
   "id": "4a9f1372",
   "metadata": {},
   "outputs": [
    {
     "name": "stdout",
     "output_type": "stream",
     "text": [
      "Help on function max_pool1d in module torch.nn.functional:\n",
      "\n",
      "max_pool1d(*args, **kwargs)\n",
      "    Applies a 1D max pooling over an input signal composed of several input\n",
      "    planes.\n",
      "    \n",
      "    See :class:`~torch.nn.MaxPool1d` for details.\n",
      "\n"
     ]
    }
   ],
   "source": [
    "help(F.max_pool1d)"
   ]
  },
  {
   "cell_type": "markdown",
   "id": "034cd47c",
   "metadata": {},
   "source": [
    "## *train and evl"
   ]
  },
  {
   "cell_type": "code",
   "execution_count": 8,
   "id": "2d5fa691",
   "metadata": {
    "code_folding": [],
    "scrolled": true
   },
   "outputs": [],
   "source": [
    "def get_time_dif(start_time):\n",
    "    end_time = time.time()\n",
    "    time_dif = end_time - start_time\n",
    "    return timedelta(seconds=int(round(time_dif)))\n",
    "\n",
    "def init_network(model, method='xavier', exclude='embedding', seed=123):\n",
    "    for name, w in model.named_parameters():\n",
    "        if exclude not in name:\n",
    "            if 'weight' in name:\n",
    "                if method == 'xavier':\n",
    "                    nn.init.xavier_normal_(w)\n",
    "                elif method == 'kaiming':\n",
    "                    nn.init.kaiming_normal_(w)\n",
    "                else:\n",
    "                    nn.init.normal_(w)\n",
    "            elif 'bias' in name:\n",
    "                nn.init.constant_(w, 0)\n",
    "            else:\n",
    "                pass\n",
    "\n",
    "def train(model, config, train_set, dev_set, test_set):\n",
    "    train_iter = DatasetIterater(train_set, config.batch_size, config.device)\n",
    "    dev_iter = DatasetIterater(dev_set, config.batch_size, config.device)\n",
    "    test_iter = DatasetIterater(test_set, config.batch_size, config.device)\n",
    "    optimizer = torch.optim.Adam(model.parameters(), lr = config.learning_rate)\n",
    "    model.train()\n",
    "    start_time = time.time()\n",
    "    total_iter = 0\n",
    "    best_dev_acc = 0\n",
    "    for epoch in range(config.epoch):\n",
    "        print('Epoch [{}/{}]'.format(epoch + 1, config.epoch))\n",
    "        for i, (x, y_true) in enumerate(train_iter):\n",
    "            out = model(x)\n",
    "            model.zero_grad()\n",
    "            loss = F.cross_entropy(out, y_true)\n",
    "            loss.backward()\n",
    "            optimizer.step()\n",
    "            total_iter += 1\n",
    "            if total_iter % config.log_step == 0  or i+1 == len(train_iter):\n",
    "                acc_train, loss_train = evalute(model, config, DatasetIterater(train_set, config.batch_size, config.device))\n",
    "                acc_dev, loss_dev = evalute(model, config, dev_iter)\n",
    "                model.train()\n",
    "                improve = \"\"\n",
    "                if acc_dev > best_dev_acc:\n",
    "                    best_dev_acc = acc_dev\n",
    "                    improve = \"*\"\n",
    "                time_dif = get_time_dif(start_time)\n",
    "                msg = 'Iter: {0:>6},  Train Loss: {1:>5.2},  Train Acc: {2:>6.2%},  Val Loss: {3:>5.2},  Val Acc: {4:>6.2%},  Time: {5}{6}'\n",
    "                print(msg.format(total_iter, loss_train, acc_train, loss_dev, acc_dev, time_dif, improve))\n",
    "    acc_test, loss_test = evalute(model, config, test_iter)\n",
    "    msg = 'Test Loss: {0:>5.2},  Test Acc: {1:>6.2%}'\n",
    "    print(msg.format(loss_test, acc_test))\n",
    "\n",
    "def evalute(model, config, data_iter):\n",
    "    model.eval()\n",
    "    loss_total = 0\n",
    "    labels_predict = np.arange(0)\n",
    "    labels_true = np.arange(0)\n",
    "    with torch.no_grad():\n",
    "        for x, y_true in data_iter:\n",
    "            out = model(x)\n",
    "            loss = F.cross_entropy(out, y_true)\n",
    "            loss_total += loss\n",
    "            labels_predict = np.concatenate((labels_predict, out.data.cpu().numpy().argmax(axis=1)), axis=0)\n",
    "            labels_true = np.concatenate((labels_true, y_true.data.cpu().numpy()), axis=0)\n",
    "        try:\n",
    "            assert len(labels_true) == labels_predict.size\n",
    "        except AssertionError as e:\n",
    "            print(len(x))\n",
    "            print(out.shape)\n",
    "            print(\"labels_true:\", len(labels_true))\n",
    "            print(\"labels_predict:\",labels_predict.size)\n",
    "            raise AssertionError\n",
    "    acc = (labels_true == labels_predict).mean()\n",
    "    loss = loss_total.data.cpu().numpy()/len(data_iter)\n",
    "    return acc, loss_total"
   ]
  },
  {
   "cell_type": "markdown",
   "id": "908cc186",
   "metadata": {},
   "source": [
    "## run"
   ]
  },
  {
   "cell_type": "markdown",
   "id": "7e5f8d1f",
   "metadata": {},
   "source": [
    "### rnn with random embedding"
   ]
  },
  {
   "cell_type": "code",
   "execution_count": 51,
   "id": "d5d270f1",
   "metadata": {
    "scrolled": true
   },
   "outputs": [
    {
     "name": "stdout",
     "output_type": "stream",
     "text": [
      "vocab loaded sucessed, size : 14666 \n",
      "./data_set/test.pkl loaded success, size: 15605\n",
      "./data_set/dev.pkl loaded success, size: 31211\n",
      "./data_set/train.pkl loaded success, size: 109242\n",
      "Epoch [1/20]\n",
      "Iter:   1000,  Train Loss: 4.4e+03,  Train Acc: 51.00%,  Val Loss: 1.2e+03,  Val Acc: 50.82%,  Time: 0:00:40*\n",
      "Iter:   2000,  Train Loss: 4.3e+03,  Train Acc: 51.18%,  Val Loss: 1.2e+03,  Val Acc: 51.09%,  Time: 0:01:20*\n",
      "Iter:   3000,  Train Loss: 4.3e+03,  Train Acc: 51.02%,  Val Loss: 1.2e+03,  Val Acc: 50.85%,  Time: 0:02:00\n",
      "Iter:   3414,  Train Loss: 4.3e+03,  Train Acc: 51.25%,  Val Loss: 1.2e+03,  Val Acc: 51.18%,  Time: 0:02:31*\n",
      "Epoch [2/20]\n",
      "Iter:   4000,  Train Loss: 4.3e+03,  Train Acc: 51.39%,  Val Loss: 1.2e+03,  Val Acc: 51.27%,  Time: 0:03:05*\n",
      "Iter:   5000,  Train Loss: 4.3e+03,  Train Acc: 51.39%,  Val Loss: 1.2e+03,  Val Acc: 51.19%,  Time: 0:03:44\n",
      "Iter:   6000,  Train Loss: 4.3e+03,  Train Acc: 51.09%,  Val Loss: 1.2e+03,  Val Acc: 51.01%,  Time: 0:04:24\n",
      "Iter:   6828,  Train Loss: 4.3e+03,  Train Acc: 51.38%,  Val Loss: 1.2e+03,  Val Acc: 51.30%,  Time: 0:05:01*\n",
      "Epoch [3/20]\n",
      "Iter:   7000,  Train Loss: 4.3e+03,  Train Acc: 51.35%,  Val Loss: 1.2e+03,  Val Acc: 51.30%,  Time: 0:05:29*\n",
      "Iter:   8000,  Train Loss: 4.3e+03,  Train Acc: 51.34%,  Val Loss: 1.2e+03,  Val Acc: 51.22%,  Time: 0:06:09\n",
      "Iter:   9000,  Train Loss: 4.2e+03,  Train Acc: 51.52%,  Val Loss: 1.2e+03,  Val Acc: 51.35%,  Time: 0:06:48*\n",
      "Iter:  10000,  Train Loss: 4.2e+03,  Train Acc: 51.48%,  Val Loss: 1.2e+03,  Val Acc: 51.29%,  Time: 0:07:28\n",
      "Iter:  10242,  Train Loss: 4.2e+03,  Train Acc: 51.48%,  Val Loss: 1.2e+03,  Val Acc: 51.40%,  Time: 0:07:57*\n",
      "Epoch [4/20]\n",
      "Iter:  11000,  Train Loss: 4.2e+03,  Train Acc: 51.53%,  Val Loss: 1.2e+03,  Val Acc: 51.27%,  Time: 0:08:33\n",
      "Iter:  12000,  Train Loss: 4.2e+03,  Train Acc: 51.51%,  Val Loss: 1.2e+03,  Val Acc: 51.40%,  Time: 0:09:13\n",
      "Iter:  13000,  Train Loss: 4.2e+03,  Train Acc: 51.63%,  Val Loss: 1.2e+03,  Val Acc: 51.42%,  Time: 0:09:52*\n",
      "Iter:  13656,  Train Loss: 4.2e+03,  Train Acc: 51.65%,  Val Loss: 1.2e+03,  Val Acc: 51.54%,  Time: 0:10:27*\n",
      "Epoch [5/20]\n",
      "Iter:  14000,  Train Loss: 4.2e+03,  Train Acc: 51.69%,  Val Loss: 1.2e+03,  Val Acc: 51.47%,  Time: 0:10:57\n",
      "Iter:  15000,  Train Loss: 4.2e+03,  Train Acc: 51.82%,  Val Loss: 1.2e+03,  Val Acc: 51.52%,  Time: 0:11:37\n",
      "Iter:  16000,  Train Loss: 4.2e+03,  Train Acc: 51.83%,  Val Loss: 1.2e+03,  Val Acc: 51.55%,  Time: 0:12:17*\n",
      "Iter:  17000,  Train Loss: 4.2e+03,  Train Acc: 51.83%,  Val Loss: 1.2e+03,  Val Acc: 51.59%,  Time: 0:12:57*\n",
      "Iter:  17070,  Train Loss: 4.2e+03,  Train Acc: 51.94%,  Val Loss: 1.2e+03,  Val Acc: 51.65%,  Time: 0:13:23*\n",
      "Epoch [6/20]\n",
      "Iter:  18000,  Train Loss: 4.2e+03,  Train Acc: 51.98%,  Val Loss: 1.2e+03,  Val Acc: 51.76%,  Time: 0:14:02*\n",
      "Iter:  19000,  Train Loss: 4.2e+03,  Train Acc: 52.02%,  Val Loss: 1.2e+03,  Val Acc: 51.86%,  Time: 0:14:42*\n",
      "Iter:  20000,  Train Loss: 4.2e+03,  Train Acc: 52.03%,  Val Loss: 1.2e+03,  Val Acc: 51.77%,  Time: 0:15:21\n",
      "Iter:  20484,  Train Loss: 4.2e+03,  Train Acc: 52.07%,  Val Loss: 1.2e+03,  Val Acc: 51.77%,  Time: 0:15:54\n",
      "Epoch [7/20]\n",
      "Iter:  21000,  Train Loss: 4.3e+03,  Train Acc: 49.54%,  Val Loss: 1.2e+03,  Val Acc: 49.58%,  Time: 0:16:26\n",
      "Iter:  22000,  Train Loss: 4.1e+03,  Train Acc: 52.17%,  Val Loss: 1.2e+03,  Val Acc: 51.87%,  Time: 0:17:06*\n",
      "Iter:  23000,  Train Loss: 4.2e+03,  Train Acc: 52.02%,  Val Loss: 1.2e+03,  Val Acc: 51.68%,  Time: 0:17:46\n",
      "Iter:  23898,  Train Loss: 4.2e+03,  Train Acc: 52.21%,  Val Loss: 1.2e+03,  Val Acc: 51.90%,  Time: 0:18:24*\n",
      "Epoch [8/20]\n",
      "Iter:  24000,  Train Loss: 4.1e+03,  Train Acc: 52.08%,  Val Loss: 1.2e+03,  Val Acc: 51.77%,  Time: 0:18:51\n",
      "Iter:  25000,  Train Loss: 4.2e+03,  Train Acc: 52.25%,  Val Loss: 1.2e+03,  Val Acc: 52.02%,  Time: 0:19:31*\n",
      "Iter:  26000,  Train Loss: 4.1e+03,  Train Acc: 52.44%,  Val Loss: 1.2e+03,  Val Acc: 52.23%,  Time: 0:20:10*\n",
      "Iter:  27000,  Train Loss: 4.1e+03,  Train Acc: 52.48%,  Val Loss: 1.2e+03,  Val Acc: 52.21%,  Time: 0:20:50\n",
      "Iter:  27312,  Train Loss: 4.1e+03,  Train Acc: 52.38%,  Val Loss: 1.2e+03,  Val Acc: 52.23%,  Time: 0:21:20\n",
      "Epoch [9/20]\n",
      "Iter:  28000,  Train Loss: 4.1e+03,  Train Acc: 52.43%,  Val Loss: 1.2e+03,  Val Acc: 52.20%,  Time: 0:21:55\n",
      "Iter:  29000,  Train Loss: 4.1e+03,  Train Acc: 52.24%,  Val Loss: 1.2e+03,  Val Acc: 52.01%,  Time: 0:22:35\n",
      "Iter:  30000,  Train Loss: 4.1e+03,  Train Acc: 52.41%,  Val Loss: 1.2e+03,  Val Acc: 52.09%,  Time: 0:23:14\n",
      "Iter:  30726,  Train Loss: 4.1e+03,  Train Acc: 52.59%,  Val Loss: 1.2e+03,  Val Acc: 52.35%,  Time: 0:23:50*\n",
      "Epoch [10/20]\n",
      "Iter:  31000,  Train Loss: 4.1e+03,  Train Acc: 52.74%,  Val Loss: 1.2e+03,  Val Acc: 52.38%,  Time: 0:24:19*\n",
      "Iter:  32000,  Train Loss: 4.1e+03,  Train Acc: 52.81%,  Val Loss: 1.2e+03,  Val Acc: 52.52%,  Time: 0:24:59*\n",
      "Iter:  33000,  Train Loss: 4.1e+03,  Train Acc: 52.76%,  Val Loss: 1.2e+03,  Val Acc: 52.61%,  Time: 0:25:39*\n",
      "Iter:  34000,  Train Loss: 4.1e+03,  Train Acc: 52.64%,  Val Loss: 1.2e+03,  Val Acc: 52.44%,  Time: 0:26:18\n",
      "Iter:  34140,  Train Loss: 4.1e+03,  Train Acc: 52.83%,  Val Loss: 1.2e+03,  Val Acc: 52.55%,  Time: 0:26:46\n",
      "Epoch [11/20]\n",
      "Iter:  35000,  Train Loss: 4.1e+03,  Train Acc: 52.18%,  Val Loss: 1.2e+03,  Val Acc: 51.86%,  Time: 0:27:23\n",
      "Iter:  36000,  Train Loss: 4.1e+03,  Train Acc: 53.03%,  Val Loss: 1.2e+03,  Val Acc: 52.74%,  Time: 0:28:03*\n",
      "Iter:  37000,  Train Loss: 4.1e+03,  Train Acc: 53.05%,  Val Loss: 1.2e+03,  Val Acc: 52.76%,  Time: 0:28:43*\n",
      "Iter:  37554,  Train Loss: 4.1e+03,  Train Acc: 53.03%,  Val Loss: 1.2e+03,  Val Acc: 52.74%,  Time: 0:29:18\n",
      "Epoch [12/20]\n",
      "Iter:  38000,  Train Loss: 4.1e+03,  Train Acc: 53.17%,  Val Loss: 1.2e+03,  Val Acc: 52.89%,  Time: 0:29:50*\n",
      "Iter:  39000,  Train Loss: 4e+03,  Train Acc: 53.19%,  Val Loss: 1.2e+03,  Val Acc: 52.96%,  Time: 0:30:30*\n",
      "Iter:  40000,  Train Loss: 4e+03,  Train Acc: 53.29%,  Val Loss: 1.2e+03,  Val Acc: 52.97%,  Time: 0:31:09*\n",
      "Iter:  40968,  Train Loss: 4.1e+03,  Train Acc: 53.11%,  Val Loss: 1.2e+03,  Val Acc: 52.76%,  Time: 0:31:49\n",
      "Epoch [13/20]\n",
      "Iter:  41000,  Train Loss: 4e+03,  Train Acc: 53.29%,  Val Loss: 1.2e+03,  Val Acc: 53.04%,  Time: 0:32:14*\n",
      "Iter:  42000,  Train Loss: 4e+03,  Train Acc: 53.35%,  Val Loss: 1.2e+03,  Val Acc: 52.96%,  Time: 0:32:54\n",
      "Iter:  43000,  Train Loss: 4e+03,  Train Acc: 53.14%,  Val Loss: 1.2e+03,  Val Acc: 52.83%,  Time: 0:33:34\n",
      "Iter:  44000,  Train Loss: 4e+03,  Train Acc: 53.24%,  Val Loss: 1.2e+03,  Val Acc: 52.94%,  Time: 0:34:14\n",
      "Iter:  44382,  Train Loss: 4e+03,  Train Acc: 53.42%,  Val Loss: 1.2e+03,  Val Acc: 53.01%,  Time: 0:34:45\n",
      "Epoch [14/20]\n",
      "Iter:  45000,  Train Loss: 4e+03,  Train Acc: 53.38%,  Val Loss: 1.2e+03,  Val Acc: 53.10%,  Time: 0:35:20*\n",
      "Iter:  46000,  Train Loss: 4e+03,  Train Acc: 53.59%,  Val Loss: 1.2e+03,  Val Acc: 53.28%,  Time: 0:36:01*\n",
      "Iter:  47000,  Train Loss: 4e+03,  Train Acc: 53.48%,  Val Loss: 1.2e+03,  Val Acc: 53.27%,  Time: 0:36:43\n",
      "Iter:  47796,  Train Loss: 4e+03,  Train Acc: 53.43%,  Val Loss: 1.2e+03,  Val Acc: 52.96%,  Time: 0:37:21\n",
      "Epoch [15/20]\n",
      "Iter:  48000,  Train Loss: 4e+03,  Train Acc: 53.48%,  Val Loss: 1.2e+03,  Val Acc: 53.20%,  Time: 0:37:50\n",
      "Iter:  49000,  Train Loss: 4e+03,  Train Acc: 53.69%,  Val Loss: 1.1e+03,  Val Acc: 53.16%,  Time: 0:38:29\n",
      "Iter:  50000,  Train Loss: 4e+03,  Train Acc: 53.87%,  Val Loss: 1.1e+03,  Val Acc: 53.57%,  Time: 0:39:09*\n",
      "Iter:  51000,  Train Loss: 4e+03,  Train Acc: 53.81%,  Val Loss: 1.1e+03,  Val Acc: 53.44%,  Time: 0:39:49\n",
      "Iter:  51210,  Train Loss: 4e+03,  Train Acc: 53.75%,  Val Loss: 1.2e+03,  Val Acc: 53.23%,  Time: 0:40:17\n",
      "Epoch [16/20]\n",
      "Iter:  52000,  Train Loss: 4e+03,  Train Acc: 53.82%,  Val Loss: 1.1e+03,  Val Acc: 53.40%,  Time: 0:40:54\n",
      "Iter:  53000,  Train Loss: 4e+03,  Train Acc: 54.02%,  Val Loss: 1.1e+03,  Val Acc: 53.53%,  Time: 0:41:34\n",
      "Iter:  54000,  Train Loss: 4e+03,  Train Acc: 54.04%,  Val Loss: 1.1e+03,  Val Acc: 53.53%,  Time: 0:42:13\n",
      "Iter:  54624,  Train Loss: 4e+03,  Train Acc: 53.93%,  Val Loss: 1.1e+03,  Val Acc: 53.46%,  Time: 0:42:48\n",
      "Epoch [17/20]\n",
      "Iter:  55000,  Train Loss: 4e+03,  Train Acc: 54.03%,  Val Loss: 1.1e+03,  Val Acc: 53.56%,  Time: 0:43:18\n",
      "Iter:  56000,  Train Loss: 4.1e+03,  Train Acc: 52.50%,  Val Loss: 1.2e+03,  Val Acc: 51.67%,  Time: 0:43:59\n"
     ]
    },
    {
     "name": "stdout",
     "output_type": "stream",
     "text": [
      "Iter:  57000,  Train Loss: 3.9e+03,  Train Acc: 54.18%,  Val Loss: 1.1e+03,  Val Acc: 53.59%,  Time: 0:44:41*\n",
      "Iter:  58000,  Train Loss: 3.9e+03,  Train Acc: 54.29%,  Val Loss: 1.1e+03,  Val Acc: 53.81%,  Time: 0:45:22*\n",
      "Iter:  58038,  Train Loss: 4e+03,  Train Acc: 54.21%,  Val Loss: 1.1e+03,  Val Acc: 53.61%,  Time: 0:45:47\n",
      "Epoch [18/20]\n",
      "Iter:  59000,  Train Loss: 3.9e+03,  Train Acc: 54.41%,  Val Loss: 1.1e+03,  Val Acc: 53.91%,  Time: 0:46:27*\n",
      "Iter:  60000,  Train Loss: 3.9e+03,  Train Acc: 54.54%,  Val Loss: 1.1e+03,  Val Acc: 53.92%,  Time: 0:47:06*\n",
      "Iter:  61000,  Train Loss: 3.9e+03,  Train Acc: 53.98%,  Val Loss: 1.1e+03,  Val Acc: 53.18%,  Time: 0:47:46\n",
      "Iter:  61452,  Train Loss: 3.9e+03,  Train Acc: 54.47%,  Val Loss: 1.1e+03,  Val Acc: 53.84%,  Time: 0:48:18\n",
      "Epoch [19/20]\n",
      "Iter:  62000,  Train Loss: 3.9e+03,  Train Acc: 54.55%,  Val Loss: 1.1e+03,  Val Acc: 53.97%,  Time: 0:48:51*\n",
      "Iter:  63000,  Train Loss: 3.9e+03,  Train Acc: 54.69%,  Val Loss: 1.1e+03,  Val Acc: 54.04%,  Time: 0:49:31*\n",
      "Iter:  64000,  Train Loss: 3.9e+03,  Train Acc: 54.80%,  Val Loss: 1.1e+03,  Val Acc: 53.85%,  Time: 0:50:10\n",
      "Iter:  64866,  Train Loss: 3.9e+03,  Train Acc: 54.76%,  Val Loss: 1.1e+03,  Val Acc: 54.05%,  Time: 0:50:48*\n",
      "Epoch [20/20]\n",
      "Iter:  65000,  Train Loss: 3.9e+03,  Train Acc: 54.77%,  Val Loss: 1.1e+03,  Val Acc: 54.19%,  Time: 0:51:15*\n",
      "Iter:  66000,  Train Loss: 3.9e+03,  Train Acc: 54.43%,  Val Loss: 1.1e+03,  Val Acc: 53.94%,  Time: 0:51:55\n",
      "Iter:  67000,  Train Loss: 3.9e+03,  Train Acc: 54.91%,  Val Loss: 1.1e+03,  Val Acc: 54.30%,  Time: 0:52:35*\n",
      "Iter:  68000,  Train Loss: 3.9e+03,  Train Acc: 54.85%,  Val Loss: 1.1e+03,  Val Acc: 54.07%,  Time: 0:53:15\n",
      "Iter:  68280,  Train Loss: 3.9e+03,  Train Acc: 54.93%,  Val Loss: 1.1e+03,  Val Acc: 54.14%,  Time: 0:53:45\n",
      "Train Loss: 5.7e+02,  Train Acc: 53.87%\n"
     ]
    }
   ],
   "source": [
    "config = Config()\n",
    "train_set, dev_set, test_set = build_dataset(config)\n",
    "### customized hyper param\n",
    "config.learning_rate = 1e-5 # lr = 1e-3 导致模型震荡，acc上不去\n",
    "config.log_step = 1000\n",
    "config.drop_out = 0.3\n",
    "###\n",
    "np.random.seed(1)\n",
    "torch.manual_seed(1)\n",
    "torch.cuda.manual_seed_all(1)\n",
    "torch.backends.cudnn.deterministic = True  # 保证每次结果一样\n",
    "\n",
    "model = Text_RNN(config).to(config.device)\n",
    "init_network(model)\n",
    "\n",
    "train(model, config, train_set, dev_set, test_set)"
   ]
  },
  {
   "cell_type": "markdown",
   "id": "ed778e39",
   "metadata": {},
   "source": [
    "### rnn with glove"
   ]
  },
  {
   "cell_type": "code",
   "execution_count": null,
   "id": "eeed5acb",
   "metadata": {
    "code_folding": [],
    "scrolled": false
   },
   "outputs": [],
   "source": [
    "config = Config(embed_path = r'/home2/rzhao/pretrained_models/glove/standford/glove.6B.50d.pkl',\n",
    "                vocab_path = r'/home2/rzhao/pretrained_models/glove/standford/vocab.pkl')\n",
    "train_set, dev_set, test_set = build_dataset(config)\n",
    "### customized hyper param\n",
    "config.batch_size = 32\n",
    "config.learning_rate = 1e-5\n",
    "config.log_step = 1000\n",
    "config.drop_out = 0.3\n",
    "###\n",
    "np.random.seed(1)\n",
    "torch.manual_seed(1)\n",
    "torch.cuda.manual_seed_all(1)\n",
    "torch.backends.cudnn.deterministic = True  # 保证每次结果一样\n",
    "\n",
    "model = Text_RNN(config).to(config.device)\n",
    "init_network(model)\n",
    "train(model, config, train_set, dev_set, test_set)"
   ]
  },
  {
   "cell_type": "markdown",
   "id": "9fec4609",
   "metadata": {},
   "source": [
    "### rnn with word2vec"
   ]
  },
  {
   "cell_type": "code",
   "execution_count": 8,
   "id": "122f94a0",
   "metadata": {
    "scrolled": true
   },
   "outputs": [
    {
     "name": "stdout",
     "output_type": "stream",
     "text": [
      "vocab loaded sucessed, size : 3000000 \n",
      "./data_set/test.pkl loaded success, size: 15605\n",
      "./data_set/dev.pkl loaded success, size: 31211\n",
      "./data_set/train.pkl loaded success, size: 109242\n"
     ]
    },
    {
     "data": {
      "text/plain": [
       "<torch._C.Generator at 0x7ff54ecfe710>"
      ]
     },
     "execution_count": 8,
     "metadata": {},
     "output_type": "execute_result"
    },
    {
     "name": "stdout",
     "output_type": "stream",
     "text": [
      "Epoch [1/20]\n",
      "Iter:   1000,  Train Loss: 5.4e+03,  Train Acc: 51.00%,  Val Loss: 1.6e+03,  Val Acc: 50.82%,  Time: 0:03:20*\n",
      "Iter:   2000,  Train Loss: 4.9e+03,  Train Acc: 17.52%,  Val Loss: 1.4e+03,  Val Acc: 17.67%,  Time: 0:06:38\n",
      "Iter:   3000,  Train Loss: 4.9e+03,  Train Acc: 51.00%,  Val Loss: 1.4e+03,  Val Acc: 50.82%,  Time: 0:09:56\n",
      "Iter:   3414,  Train Loss: 6.1e+03,  Train Acc: 21.11%,  Val Loss: 1.8e+03,  Val Acc: 20.97%,  Time: 0:11:33\n",
      "Epoch [2/20]\n",
      "Iter:   4000,  Train Loss: 5.1e+03,  Train Acc: 51.00%,  Val Loss: 1.5e+03,  Val Acc: 50.82%,  Time: 0:13:41\n",
      "Iter:   5000,  Train Loss: 4.6e+03,  Train Acc: 51.00%,  Val Loss: 1.3e+03,  Val Acc: 50.82%,  Time: 0:16:57\n",
      "Iter:   6000,  Train Loss: 5.5e+03,  Train Acc: 21.11%,  Val Loss: 1.6e+03,  Val Acc: 20.97%,  Time: 0:20:15\n",
      "Iter:   6828,  Train Loss: 6.1e+03,  Train Acc: 21.11%,  Val Loss: 1.8e+03,  Val Acc: 20.97%,  Time: 0:23:03\n",
      "Epoch [3/20]\n",
      "Iter:   7000,  Train Loss: 5e+03,  Train Acc: 51.00%,  Val Loss: 1.4e+03,  Val Acc: 50.82%,  Time: 0:24:00\n",
      "Iter:   8000,  Train Loss: 4.9e+03,  Train Acc: 21.11%,  Val Loss: 1.4e+03,  Val Acc: 20.97%,  Time: 0:27:17\n",
      "Iter:   9000,  Train Loss: 4.5e+03,  Train Acc: 51.00%,  Val Loss: 1.3e+03,  Val Acc: 50.82%,  Time: 0:30:34\n",
      "Iter:  10000,  Train Loss: 6e+03,  Train Acc: 51.00%,  Val Loss: 1.7e+03,  Val Acc: 50.82%,  Time: 0:33:51\n",
      "Iter:  10242,  Train Loss: 6.1e+03,  Train Acc: 21.11%,  Val Loss: 1.8e+03,  Val Acc: 20.97%,  Time: 0:35:00\n",
      "Epoch [4/20]\n",
      "Iter:  11000,  Train Loss: 5.6e+03,  Train Acc: 17.52%,  Val Loss: 1.6e+03,  Val Acc: 17.67%,  Time: 0:37:36\n",
      "Iter:  12000,  Train Loss: 5.2e+03,  Train Acc: 51.00%,  Val Loss: 1.5e+03,  Val Acc: 50.82%,  Time: 0:40:54\n",
      "Iter:  13000,  Train Loss: 4.6e+03,  Train Acc: 51.00%,  Val Loss: 1.3e+03,  Val Acc: 50.82%,  Time: 0:44:11\n",
      "Iter:  13656,  Train Loss: 6.1e+03,  Train Acc: 21.11%,  Val Loss: 1.8e+03,  Val Acc: 20.97%,  Time: 0:46:31\n",
      "Epoch [5/20]\n",
      "Iter:  14000,  Train Loss: 5.4e+03,  Train Acc: 51.00%,  Val Loss: 1.6e+03,  Val Acc: 50.82%,  Time: 0:47:57\n",
      "Iter:  15000,  Train Loss: 4.8e+03,  Train Acc: 51.00%,  Val Loss: 1.4e+03,  Val Acc: 50.82%,  Time: 0:51:15\n",
      "Iter:  16000,  Train Loss: 4.8e+03,  Train Acc: 51.00%,  Val Loss: 1.4e+03,  Val Acc: 50.82%,  Time: 0:54:32\n",
      "Iter:  17000,  Train Loss: 5.3e+03,  Train Acc: 51.00%,  Val Loss: 1.5e+03,  Val Acc: 50.82%,  Time: 0:57:50\n",
      "Iter:  17070,  Train Loss: 6.1e+03,  Train Acc: 21.11%,  Val Loss: 1.8e+03,  Val Acc: 20.97%,  Time: 0:58:30\n",
      "Epoch [6/20]\n",
      "Iter:  18000,  Train Loss: 5.3e+03,  Train Acc: 51.00%,  Val Loss: 1.5e+03,  Val Acc: 50.82%,  Time: 1:01:36\n",
      "Iter:  19000,  Train Loss: 5e+03,  Train Acc: 51.00%,  Val Loss: 1.4e+03,  Val Acc: 50.82%,  Time: 1:04:53\n",
      "Iter:  20000,  Train Loss: 5.2e+03,  Train Acc: 51.00%,  Val Loss: 1.5e+03,  Val Acc: 50.82%,  Time: 1:08:10\n",
      "Iter:  20484,  Train Loss: 6.1e+03,  Train Acc: 21.11%,  Val Loss: 1.8e+03,  Val Acc: 20.97%,  Time: 1:10:00\n",
      "Epoch [7/20]\n",
      "Iter:  21000,  Train Loss: 5.1e+03,  Train Acc: 21.11%,  Val Loss: 1.5e+03,  Val Acc: 20.97%,  Time: 1:11:55\n",
      "Iter:  22000,  Train Loss: 5.9e+03,  Train Acc: 51.00%,  Val Loss: 1.7e+03,  Val Acc: 50.82%,  Time: 1:15:12\n",
      "Iter:  23000,  Train Loss: 5.4e+03,  Train Acc:  5.84%,  Val Loss: 1.5e+03,  Val Acc:  5.83%,  Time: 1:18:29\n",
      "Iter:  23898,  Train Loss: 6.1e+03,  Train Acc: 21.11%,  Val Loss: 1.8e+03,  Val Acc: 20.97%,  Time: 1:21:29\n",
      "Epoch [8/20]\n",
      "Iter:  24000,  Train Loss: 5.9e+03,  Train Acc: 17.52%,  Val Loss: 1.7e+03,  Val Acc: 17.67%,  Time: 1:22:15\n",
      "Iter:  25000,  Train Loss: 5.3e+03,  Train Acc: 51.00%,  Val Loss: 1.5e+03,  Val Acc: 50.82%,  Time: 1:25:32\n",
      "Iter:  26000,  Train Loss: 5.7e+03,  Train Acc: 51.00%,  Val Loss: 1.6e+03,  Val Acc: 50.82%,  Time: 1:28:50\n",
      "Iter:  27000,  Train Loss: 5.5e+03,  Train Acc: 51.00%,  Val Loss: 1.6e+03,  Val Acc: 50.82%,  Time: 1:32:07\n",
      "Iter:  27312,  Train Loss: 6.1e+03,  Train Acc: 21.11%,  Val Loss: 1.8e+03,  Val Acc: 20.97%,  Time: 1:33:28\n",
      "Epoch [9/20]\n",
      "Iter:  28000,  Train Loss: 5e+03,  Train Acc: 51.00%,  Val Loss: 1.4e+03,  Val Acc: 50.82%,  Time: 1:35:53\n",
      "Iter:  29000,  Train Loss: 4.7e+03,  Train Acc: 51.00%,  Val Loss: 1.3e+03,  Val Acc: 50.82%,  Time: 1:39:10\n",
      "Iter:  30000,  Train Loss: 4.7e+03,  Train Acc: 21.11%,  Val Loss: 1.4e+03,  Val Acc: 20.97%,  Time: 1:42:28\n",
      "Iter:  30726,  Train Loss: 6.1e+03,  Train Acc: 21.11%,  Val Loss: 1.8e+03,  Val Acc: 20.97%,  Time: 1:44:59\n",
      "Epoch [10/20]\n",
      "Iter:  31000,  Train Loss: 4.5e+03,  Train Acc: 51.00%,  Val Loss: 1.3e+03,  Val Acc: 50.82%,  Time: 1:46:14\n",
      "Iter:  32000,  Train Loss: 5.5e+03,  Train Acc: 51.00%,  Val Loss: 1.6e+03,  Val Acc: 50.82%,  Time: 1:49:31\n",
      "Iter:  33000,  Train Loss: 4.9e+03,  Train Acc: 51.00%,  Val Loss: 1.4e+03,  Val Acc: 50.82%,  Time: 1:52:47\n",
      "Iter:  34000,  Train Loss: 5.8e+03,  Train Acc: 21.11%,  Val Loss: 1.7e+03,  Val Acc: 20.97%,  Time: 1:56:04\n",
      "Iter:  34140,  Train Loss: 6.1e+03,  Train Acc: 21.11%,  Val Loss: 1.8e+03,  Val Acc: 20.97%,  Time: 1:56:56\n",
      "Epoch [11/20]\n",
      "Iter:  35000,  Train Loss: 4.6e+03,  Train Acc: 51.00%,  Val Loss: 1.3e+03,  Val Acc: 50.82%,  Time: 1:59:50\n",
      "Iter:  36000,  Train Loss: 5.2e+03,  Train Acc: 17.52%,  Val Loss: 1.5e+03,  Val Acc: 17.67%,  Time: 2:03:07\n",
      "Iter:  37000,  Train Loss: 4.8e+03,  Train Acc: 51.00%,  Val Loss: 1.4e+03,  Val Acc: 50.82%,  Time: 2:06:24\n",
      "Iter:  37554,  Train Loss: 6.1e+03,  Train Acc: 21.11%,  Val Loss: 1.8e+03,  Val Acc: 20.97%,  Time: 2:08:26\n",
      "Epoch [12/20]\n",
      "Iter:  38000,  Train Loss: 4.7e+03,  Train Acc: 51.00%,  Val Loss: 1.4e+03,  Val Acc: 50.82%,  Time: 2:10:09\n",
      "Iter:  39000,  Train Loss: 5e+03,  Train Acc: 51.00%,  Val Loss: 1.4e+03,  Val Acc: 50.82%,  Time: 2:13:26\n",
      "Iter:  40000,  Train Loss: 5.2e+03,  Train Acc: 51.00%,  Val Loss: 1.5e+03,  Val Acc: 50.82%,  Time: 2:16:44\n",
      "Iter:  40968,  Train Loss: 6.1e+03,  Train Acc: 21.11%,  Val Loss: 1.8e+03,  Val Acc: 20.97%,  Time: 2:19:55\n",
      "Epoch [13/20]\n",
      "Iter:  41000,  Train Loss: 5.3e+03,  Train Acc: 51.00%,  Val Loss: 1.5e+03,  Val Acc: 50.82%,  Time: 2:20:28\n",
      "Iter:  42000,  Train Loss: 4.5e+03,  Train Acc: 51.00%,  Val Loss: 1.3e+03,  Val Acc: 50.82%,  Time: 2:23:45\n",
      "Iter:  43000,  Train Loss: 5.2e+03,  Train Acc: 51.00%,  Val Loss: 1.5e+03,  Val Acc: 50.82%,  Time: 2:27:03\n",
      "Iter:  44000,  Train Loss: 6e+03,  Train Acc: 51.00%,  Val Loss: 1.7e+03,  Val Acc: 50.82%,  Time: 2:30:19\n",
      "Iter:  44382,  Train Loss: 6.1e+03,  Train Acc: 21.11%,  Val Loss: 1.8e+03,  Val Acc: 20.97%,  Time: 2:31:52\n",
      "Epoch [14/20]\n",
      "Iter:  45000,  Train Loss: 6.2e+03,  Train Acc: 21.11%,  Val Loss: 1.8e+03,  Val Acc: 20.97%,  Time: 2:34:05\n",
      "Iter:  46000,  Train Loss: 7.1e+03,  Train Acc: 51.00%,  Val Loss: 2e+03,  Val Acc: 50.82%,  Time: 2:37:23\n",
      "Iter:  47000,  Train Loss: 5e+03,  Train Acc: 51.00%,  Val Loss: 1.4e+03,  Val Acc: 50.82%,  Time: 2:40:40\n",
      "Iter:  47796,  Train Loss: 6.1e+03,  Train Acc: 21.11%,  Val Loss: 1.8e+03,  Val Acc: 20.97%,  Time: 2:43:23\n",
      "Epoch [15/20]\n",
      "Iter:  49000,  Train Loss: 4.6e+03,  Train Acc: 51.00%,  Val Loss: 1.3e+03,  Val Acc: 50.82%,  Time: 2:47:43\n",
      "Iter:  50000,  Train Loss: 6.5e+03,  Train Acc: 21.11%,  Val Loss: 1.9e+03,  Val Acc: 20.97%,  Time: 2:51:00\n",
      "Iter:  51000,  Train Loss: 4.8e+03,  Train Acc: 21.11%,  Val Loss: 1.4e+03,  Val Acc: 20.97%,  Time: 2:54:18\n",
      "Iter:  51210,  Train Loss: 6.1e+03,  Train Acc: 21.11%,  Val Loss: 1.8e+03,  Val Acc: 20.97%,  Time: 2:55:22\n",
      "Epoch [16/20]\n",
      "Iter:  52000,  Train Loss: 5e+03,  Train Acc: 51.00%,  Val Loss: 1.4e+03,  Val Acc: 50.82%,  Time: 2:58:05\n",
      "Iter:  53000,  Train Loss: 6e+03,  Train Acc: 51.00%,  Val Loss: 1.7e+03,  Val Acc: 50.82%,  Time: 3:01:22\n",
      "Iter:  54000,  Train Loss: 5e+03,  Train Acc: 21.11%,  Val Loss: 1.4e+03,  Val Acc: 20.97%,  Time: 3:04:41\n",
      "Iter:  54624,  Train Loss: 6.1e+03,  Train Acc: 21.11%,  Val Loss: 1.8e+03,  Val Acc: 20.97%,  Time: 3:06:55\n",
      "Epoch [17/20]\n",
      "Iter:  55000,  Train Loss: 4.7e+03,  Train Acc: 51.00%,  Val Loss: 1.3e+03,  Val Acc: 50.82%,  Time: 3:08:28\n"
     ]
    },
    {
     "ename": "KeyboardInterrupt",
     "evalue": "",
     "output_type": "error",
     "traceback": [
      "\u001b[0;31m---------------------------------------------------------------------------\u001b[0m",
      "\u001b[0;31mKeyboardInterrupt\u001b[0m                         Traceback (most recent call last)",
      "\u001b[0;32m/tmp/ipykernel_40519/2242440174.py\u001b[0m in \u001b[0;36m<module>\u001b[0;34m\u001b[0m\n\u001b[1;32m     15\u001b[0m \u001b[0mmodel\u001b[0m \u001b[0;34m=\u001b[0m \u001b[0mText_RNN\u001b[0m\u001b[0;34m(\u001b[0m\u001b[0mconfig\u001b[0m\u001b[0;34m)\u001b[0m\u001b[0;34m.\u001b[0m\u001b[0mto\u001b[0m\u001b[0;34m(\u001b[0m\u001b[0mconfig\u001b[0m\u001b[0;34m.\u001b[0m\u001b[0mdevice\u001b[0m\u001b[0;34m)\u001b[0m\u001b[0;34m\u001b[0m\u001b[0;34m\u001b[0m\u001b[0m\n\u001b[1;32m     16\u001b[0m \u001b[0minit_network\u001b[0m\u001b[0;34m(\u001b[0m\u001b[0mmodel\u001b[0m\u001b[0;34m)\u001b[0m\u001b[0;34m\u001b[0m\u001b[0;34m\u001b[0m\u001b[0m\n\u001b[0;32m---> 17\u001b[0;31m \u001b[0mtrain\u001b[0m\u001b[0;34m(\u001b[0m\u001b[0mmodel\u001b[0m\u001b[0;34m,\u001b[0m \u001b[0mconfig\u001b[0m\u001b[0;34m,\u001b[0m \u001b[0mtrain_set\u001b[0m\u001b[0;34m,\u001b[0m \u001b[0mdev_set\u001b[0m\u001b[0;34m,\u001b[0m \u001b[0mtest_set\u001b[0m\u001b[0;34m)\u001b[0m\u001b[0;34m\u001b[0m\u001b[0;34m\u001b[0m\u001b[0m\n\u001b[0m",
      "\u001b[0;32m/tmp/ipykernel_40519/2698871057.py\u001b[0m in \u001b[0;36mtrain\u001b[0;34m(model, config, train_set, dev_set, test_set)\u001b[0m\n\u001b[1;32m     30\u001b[0m     \u001b[0;32mfor\u001b[0m \u001b[0mepoch\u001b[0m \u001b[0;32min\u001b[0m \u001b[0mrange\u001b[0m\u001b[0;34m(\u001b[0m\u001b[0mconfig\u001b[0m\u001b[0;34m.\u001b[0m\u001b[0mepoch\u001b[0m\u001b[0;34m)\u001b[0m\u001b[0;34m:\u001b[0m\u001b[0;34m\u001b[0m\u001b[0;34m\u001b[0m\u001b[0m\n\u001b[1;32m     31\u001b[0m         \u001b[0mprint\u001b[0m\u001b[0;34m(\u001b[0m\u001b[0;34m'Epoch [{}/{}]'\u001b[0m\u001b[0;34m.\u001b[0m\u001b[0mformat\u001b[0m\u001b[0;34m(\u001b[0m\u001b[0mepoch\u001b[0m \u001b[0;34m+\u001b[0m \u001b[0;36m1\u001b[0m\u001b[0;34m,\u001b[0m \u001b[0mconfig\u001b[0m\u001b[0;34m.\u001b[0m\u001b[0mepoch\u001b[0m\u001b[0;34m)\u001b[0m\u001b[0;34m)\u001b[0m\u001b[0;34m\u001b[0m\u001b[0;34m\u001b[0m\u001b[0m\n\u001b[0;32m---> 32\u001b[0;31m         \u001b[0;32mfor\u001b[0m \u001b[0mi\u001b[0m\u001b[0;34m,\u001b[0m \u001b[0;34m(\u001b[0m\u001b[0mx\u001b[0m\u001b[0;34m,\u001b[0m \u001b[0my_true\u001b[0m\u001b[0;34m)\u001b[0m \u001b[0;32min\u001b[0m \u001b[0menumerate\u001b[0m\u001b[0;34m(\u001b[0m\u001b[0mtrain_iter\u001b[0m\u001b[0;34m)\u001b[0m\u001b[0;34m:\u001b[0m\u001b[0;34m\u001b[0m\u001b[0;34m\u001b[0m\u001b[0m\n\u001b[0m\u001b[1;32m     33\u001b[0m             \u001b[0mout\u001b[0m \u001b[0;34m=\u001b[0m \u001b[0mmodel\u001b[0m\u001b[0;34m(\u001b[0m\u001b[0mx\u001b[0m\u001b[0;34m)\u001b[0m\u001b[0;34m\u001b[0m\u001b[0;34m\u001b[0m\u001b[0m\n\u001b[1;32m     34\u001b[0m             \u001b[0mmodel\u001b[0m\u001b[0;34m.\u001b[0m\u001b[0mzero_grad\u001b[0m\u001b[0;34m(\u001b[0m\u001b[0;34m)\u001b[0m\u001b[0;34m\u001b[0m\u001b[0;34m\u001b[0m\u001b[0m\n",
      "\u001b[0;32m/tmp/ipykernel_40519/1838749181.py\u001b[0m in \u001b[0;36m__next__\u001b[0;34m(self)\u001b[0m\n\u001b[1;32m     27\u001b[0m         \u001b[0;32melse\u001b[0m\u001b[0;34m:\u001b[0m\u001b[0;34m\u001b[0m\u001b[0;34m\u001b[0m\u001b[0m\n\u001b[1;32m     28\u001b[0m             \u001b[0mraw_batch\u001b[0m \u001b[0;34m=\u001b[0m \u001b[0mself\u001b[0m\u001b[0;34m.\u001b[0m\u001b[0mdata_set\u001b[0m\u001b[0;34m[\u001b[0m\u001b[0mself\u001b[0m\u001b[0;34m.\u001b[0m\u001b[0mindex\u001b[0m \u001b[0;34m*\u001b[0m \u001b[0mself\u001b[0m\u001b[0;34m.\u001b[0m\u001b[0mbatch_size\u001b[0m\u001b[0;34m:\u001b[0m \u001b[0;34m(\u001b[0m\u001b[0mself\u001b[0m\u001b[0;34m.\u001b[0m\u001b[0mindex\u001b[0m\u001b[0;34m+\u001b[0m\u001b[0;36m1\u001b[0m\u001b[0;34m)\u001b[0m \u001b[0;34m*\u001b[0m \u001b[0mself\u001b[0m\u001b[0;34m.\u001b[0m\u001b[0mbatch_size\u001b[0m\u001b[0;34m]\u001b[0m\u001b[0;34m\u001b[0m\u001b[0;34m\u001b[0m\u001b[0m\n\u001b[0;32m---> 29\u001b[0;31m             \u001b[0mbatch\u001b[0m \u001b[0;34m=\u001b[0m \u001b[0mself\u001b[0m\u001b[0;34m.\u001b[0m\u001b[0mto_tensor\u001b[0m\u001b[0;34m(\u001b[0m\u001b[0mraw_batch\u001b[0m\u001b[0;34m)\u001b[0m\u001b[0;34m\u001b[0m\u001b[0;34m\u001b[0m\u001b[0m\n\u001b[0m\u001b[1;32m     30\u001b[0m             \u001b[0mself\u001b[0m\u001b[0;34m.\u001b[0m\u001b[0mindex\u001b[0m \u001b[0;34m+=\u001b[0m \u001b[0;36m1\u001b[0m\u001b[0;34m\u001b[0m\u001b[0;34m\u001b[0m\u001b[0m\n\u001b[1;32m     31\u001b[0m             \u001b[0;32mreturn\u001b[0m \u001b[0mbatch\u001b[0m\u001b[0;34m\u001b[0m\u001b[0;34m\u001b[0m\u001b[0m\n",
      "\u001b[0;32m/tmp/ipykernel_40519/1838749181.py\u001b[0m in \u001b[0;36mto_tensor\u001b[0;34m(self, raw_batch)\u001b[0m\n\u001b[1;32m     12\u001b[0m \u001b[0;34m\u001b[0m\u001b[0m\n\u001b[1;32m     13\u001b[0m     \u001b[0;32mdef\u001b[0m \u001b[0mto_tensor\u001b[0m\u001b[0;34m(\u001b[0m\u001b[0mself\u001b[0m\u001b[0;34m,\u001b[0m \u001b[0mraw_batch\u001b[0m\u001b[0;34m)\u001b[0m\u001b[0;34m:\u001b[0m\u001b[0;34m\u001b[0m\u001b[0;34m\u001b[0m\u001b[0m\n\u001b[0;32m---> 14\u001b[0;31m         \u001b[0mx\u001b[0m \u001b[0;34m=\u001b[0m \u001b[0mtorch\u001b[0m\u001b[0;34m.\u001b[0m\u001b[0mLongTensor\u001b[0m\u001b[0;34m(\u001b[0m\u001b[0;34m[\u001b[0m\u001b[0m_\u001b[0m\u001b[0;34m[\u001b[0m\u001b[0;36m0\u001b[0m\u001b[0;34m]\u001b[0m \u001b[0;32mfor\u001b[0m \u001b[0m_\u001b[0m \u001b[0;32min\u001b[0m \u001b[0mraw_batch\u001b[0m\u001b[0;34m]\u001b[0m\u001b[0;34m)\u001b[0m\u001b[0;34m.\u001b[0m\u001b[0mto\u001b[0m\u001b[0;34m(\u001b[0m\u001b[0mself\u001b[0m\u001b[0;34m.\u001b[0m\u001b[0mdevice\u001b[0m\u001b[0;34m)\u001b[0m\u001b[0;34m\u001b[0m\u001b[0;34m\u001b[0m\u001b[0m\n\u001b[0m\u001b[1;32m     15\u001b[0m         \u001b[0my\u001b[0m \u001b[0;34m=\u001b[0m \u001b[0mtorch\u001b[0m\u001b[0;34m.\u001b[0m\u001b[0mLongTensor\u001b[0m\u001b[0;34m(\u001b[0m\u001b[0;34m[\u001b[0m\u001b[0m_\u001b[0m\u001b[0;34m[\u001b[0m\u001b[0;36m1\u001b[0m\u001b[0;34m]\u001b[0m \u001b[0;32mfor\u001b[0m \u001b[0m_\u001b[0m \u001b[0;32min\u001b[0m \u001b[0mraw_batch\u001b[0m\u001b[0;34m]\u001b[0m\u001b[0;34m)\u001b[0m\u001b[0;34m.\u001b[0m\u001b[0mto\u001b[0m\u001b[0;34m(\u001b[0m\u001b[0mself\u001b[0m\u001b[0;34m.\u001b[0m\u001b[0mdevice\u001b[0m\u001b[0;34m)\u001b[0m\u001b[0;34m\u001b[0m\u001b[0;34m\u001b[0m\u001b[0m\n\u001b[1;32m     16\u001b[0m         \u001b[0;32mreturn\u001b[0m \u001b[0mx\u001b[0m\u001b[0;34m,\u001b[0m\u001b[0my\u001b[0m\u001b[0;34m\u001b[0m\u001b[0;34m\u001b[0m\u001b[0m\n",
      "\u001b[0;31mKeyboardInterrupt\u001b[0m: "
     ]
    }
   ],
   "source": [
    "config = Config(embed_path = r'/home2/rzhao/pretrained_models/word2vec/GoogleNews/word2vec-google-news-300.pkl',\n",
    "                vocab_path = r'/home2/rzhao/pretrained_models/word2vec/GoogleNews/vocab.pkl')\n",
    "train_set, dev_set, test_set = build_dataset(config)\n",
    "### customized hyper param\n",
    "config.batch_size = 32\n",
    "config.learning_rate = 3e-2\n",
    "config.log_step = 1000\n",
    "config.drop_out = 0.3\n",
    "###\n",
    "np.random.seed(1)\n",
    "torch.manual_seed(1)\n",
    "torch.cuda.manual_seed_all(1)\n",
    "torch.backends.cudnn.deterministic = True  # 保证每次结果一样\n",
    "\n",
    "model = Text_RNN(config).to(config.device)\n",
    "init_network(model)\n",
    "train(model, config, train_set, dev_set, test_set)"
   ]
  },
  {
   "cell_type": "markdown",
   "id": "c1feca66",
   "metadata": {},
   "source": [
    "### cnn with random embeding"
   ]
  },
  {
   "cell_type": "code",
   "execution_count": null,
   "id": "2c919822",
   "metadata": {},
   "outputs": [
    {
     "name": "stdout",
     "output_type": "stream",
     "text": [
      "vocab loaded sucessed, size : 14666 \n",
      "./data_set/test.pkl loaded success, size: 15605\n",
      "./data_set/dev.pkl loaded success, size: 31211\n",
      "./data_set/train.pkl loaded success, size: 109242\n"
     ]
    },
    {
     "data": {
      "text/plain": [
       "<torch._C.Generator at 0x1f7562cc618>"
      ]
     },
     "execution_count": 9,
     "metadata": {},
     "output_type": "execute_result"
    },
    {
     "name": "stdout",
     "output_type": "stream",
     "text": [
      "Epoch [1/20]\n",
      "Iter:    500,  Train Loss: 4.7e+03,  Train Acc: 50.30%,  Val Loss: 1.4e+03,  Val Acc: 50.03%,  Time: 0:00:41*\n",
      "Iter:   1000,  Train Loss: 4.5e+03,  Train Acc: 52.71%,  Val Loss: 1.3e+03,  Val Acc: 52.29%,  Time: 0:01:22*\n",
      "Iter:   1500,  Train Loss: 4.3e+03,  Train Acc: 53.64%,  Val Loss: 1.2e+03,  Val Acc: 53.34%,  Time: 0:02:04*\n",
      "Iter:   2000,  Train Loss: 4.2e+03,  Train Acc: 54.52%,  Val Loss: 1.2e+03,  Val Acc: 54.23%,  Time: 0:02:46*\n",
      "Iter:   2500,  Train Loss: 4.1e+03,  Train Acc: 54.91%,  Val Loss: 1.2e+03,  Val Acc: 54.46%,  Time: 0:03:27*\n",
      "Iter:   3000,  Train Loss: 4e+03,  Train Acc: 55.98%,  Val Loss: 1.2e+03,  Val Acc: 55.54%,  Time: 0:04:09*\n",
      "Iter:   3414,  Train Loss: 4e+03,  Train Acc: 56.55%,  Val Loss: 1.2e+03,  Val Acc: 55.99%,  Time: 0:04:48*\n",
      "Epoch [2/20]\n",
      "Iter:   3500,  Train Loss: 4e+03,  Train Acc: 56.27%,  Val Loss: 1.1e+03,  Val Acc: 55.71%,  Time: 0:05:16\n",
      "Iter:   4000,  Train Loss: 3.9e+03,  Train Acc: 57.24%,  Val Loss: 1.1e+03,  Val Acc: 56.53%,  Time: 0:05:57*\n",
      "Iter:   4500,  Train Loss: 3.9e+03,  Train Acc: 57.37%,  Val Loss: 1.1e+03,  Val Acc: 56.46%,  Time: 0:06:39\n",
      "Iter:   5000,  Train Loss: 3.8e+03,  Train Acc: 58.40%,  Val Loss: 1.1e+03,  Val Acc: 57.49%,  Time: 0:07:20*\n",
      "Iter:   5500,  Train Loss: 3.8e+03,  Train Acc: 58.37%,  Val Loss: 1.1e+03,  Val Acc: 57.44%,  Time: 0:08:02\n",
      "Iter:   6000,  Train Loss: 3.7e+03,  Train Acc: 59.35%,  Val Loss: 1.1e+03,  Val Acc: 58.32%,  Time: 0:08:43*\n",
      "Iter:   6500,  Train Loss: 3.7e+03,  Train Acc: 59.62%,  Val Loss: 1.1e+03,  Val Acc: 58.62%,  Time: 0:09:25*\n",
      "Iter:   6828,  Train Loss: 3.7e+03,  Train Acc: 59.98%,  Val Loss: 1.1e+03,  Val Acc: 59.01%,  Time: 0:10:01*\n",
      "Epoch [3/20]\n",
      "Iter:   7000,  Train Loss: 3.6e+03,  Train Acc: 59.97%,  Val Loss: 1.1e+03,  Val Acc: 58.95%,  Time: 0:10:31\n",
      "Iter:   7500,  Train Loss: 3.6e+03,  Train Acc: 60.43%,  Val Loss: 1.1e+03,  Val Acc: 59.35%,  Time: 0:11:13*\n",
      "Iter:   8000,  Train Loss: 3.6e+03,  Train Acc: 60.76%,  Val Loss: 1e+03,  Val Acc: 59.53%,  Time: 0:11:55*\n",
      "Iter:   8500,  Train Loss: 3.5e+03,  Train Acc: 61.30%,  Val Loss: 1e+03,  Val Acc: 60.11%,  Time: 0:12:38*\n",
      "Iter:   9000,  Train Loss: 3.5e+03,  Train Acc: 61.53%,  Val Loss: 1e+03,  Val Acc: 60.31%,  Time: 0:13:20*\n",
      "Iter:   9500,  Train Loss: 3.5e+03,  Train Acc: 61.77%,  Val Loss: 1e+03,  Val Acc: 60.46%,  Time: 0:14:02*\n",
      "Iter:  10000,  Train Loss: 3.4e+03,  Train Acc: 62.39%,  Val Loss: 1e+03,  Val Acc: 61.16%,  Time: 0:14:44*\n",
      "Iter:  10242,  Train Loss: 3.4e+03,  Train Acc: 62.71%,  Val Loss: 1e+03,  Val Acc: 61.43%,  Time: 0:15:17*\n",
      "Epoch [4/20]\n",
      "Iter:  10500,  Train Loss: 3.4e+03,  Train Acc: 63.14%,  Val Loss: 1e+03,  Val Acc: 61.74%,  Time: 0:15:50*\n",
      "Iter:  11000,  Train Loss: 3.4e+03,  Train Acc: 63.08%,  Val Loss: 9.9e+02,  Val Acc: 61.53%,  Time: 0:16:31\n",
      "Iter:  11500,  Train Loss: 3.4e+03,  Train Acc: 63.77%,  Val Loss: 9.9e+02,  Val Acc: 62.20%,  Time: 0:17:13*\n",
      "Iter:  12000,  Train Loss: 3.3e+03,  Train Acc: 63.61%,  Val Loss: 9.8e+02,  Val Acc: 62.08%,  Time: 0:17:54\n"
     ]
    }
   ],
   "source": [
    "config = Config()\n",
    "train_set, dev_set, test_set = build_dataset(config)\n",
    "### customized hyper param\n",
    "config.learning_rate = 1e-5 # lr = 1e-3 导致模型震荡，acc上不去\n",
    "config.log_step = 500\n",
    "config.drop_out = 0.3\n",
    "###\n",
    "np.random.seed(1)\n",
    "torch.manual_seed(1)\n",
    "torch.cuda.manual_seed_all(1)\n",
    "torch.backends.cudnn.deterministic = True  # 保证每次结果一样\n",
    "\n",
    "model = Text_CNN(config).to(config.device)\n",
    "init_network(model)\n",
    "\n",
    "train(model, config, train_set, dev_set, test_set)"
   ]
  },
  {
   "cell_type": "markdown",
   "id": "8048e6e3",
   "metadata": {},
   "source": [
    "## Test code"
   ]
  },
  {
   "cell_type": "code",
   "execution_count": 36,
   "id": "76d60e0b",
   "metadata": {},
   "outputs": [
    {
     "data": {
      "text/plain": [
       "49"
      ]
     },
     "execution_count": 36,
     "metadata": {},
     "output_type": "execute_result"
    }
   ],
   "source": [
    "import  gc\n",
    "del model\n",
    "gc.collect()"
   ]
  },
  {
   "cell_type": "code",
   "execution_count": 40,
   "id": "70be2f8a",
   "metadata": {},
   "outputs": [],
   "source": [
    "def empty_cache(var):\n",
    "    del var\n",
    "    gc.collect()\n",
    "    torch.cuda.empty_cache()"
   ]
  },
  {
   "cell_type": "markdown",
   "id": "c732ee71",
   "metadata": {},
   "source": [
    "似乎占用的显存只能通过重启kernel或者kill进程释放。"
   ]
  }
 ],
 "metadata": {
  "kernelspec": {
   "display_name": "tf",
   "language": "python",
   "name": "tf"
  },
  "language_info": {
   "codemirror_mode": {
    "name": "ipython",
    "version": 3
   },
   "file_extension": ".py",
   "mimetype": "text/x-python",
   "name": "python",
   "nbconvert_exporter": "python",
   "pygments_lexer": "ipython3",
   "version": "3.6.10"
  },
  "toc": {
   "base_numbering": 1,
   "nav_menu": {},
   "number_sections": true,
   "sideBar": true,
   "skip_h1_title": false,
   "title_cell": "Table of Contents",
   "title_sidebar": "Contents",
   "toc_cell": false,
   "toc_position": {
    "height": "calc(100% - 180px)",
    "left": "10px",
    "top": "150px",
    "width": "209.648px"
   },
   "toc_section_display": true,
   "toc_window_display": true
  }
 },
 "nbformat": 4,
 "nbformat_minor": 5
}
